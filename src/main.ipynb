{
 "cells": [
  {
   "cell_type": "code",
   "execution_count": 256,
   "metadata": {},
   "outputs": [],
   "source": [
    "import pandas as pd\n",
    "\n",
    "from acquirer.acquirer import *\n",
    "from acquirer.acquirer import *\n",
    "from model.model import *\n",
    "from molecule_pool.molecule_pool import MoleculePool\n",
    "\n",
    "import seaborn as sns\n",
    "import matplotlib.pyplot as plt\n",
    "\n",
    "\n",
    "BATCH_SIZE = 500\n",
    "MAX_ITERATIONS = 6\n",
    "NB_EXPERIMENTS = 5\n",
    "k = 500"
   ]
  },
  {
   "cell_type": "markdown",
   "metadata": {},
   "source": [
    "## Q1 & Q2 Implement the first brick, run it and output results"
   ]
  },
  {
   "cell_type": "code",
   "execution_count": 81,
   "metadata": {},
   "outputs": [],
   "source": [
    "df = pd.read_csv('../data/Enamine50k_rdkit2d.csv').to_numpy()\n",
    "df = df[:, 1:]\n",
    "\n",
    "molecule_pool = MoleculePool(df)\n",
    "\n",
    "\n",
    "models = [RandomForest({'n_estimators': 100,\n",
    "                      'max_depth': 8,\n",
    "                      }), \n",
    "          NN({'input_shape': 200, 'hidden_shape': 100, 'output_shape': 1}, epoch=100)]\n",
    "\n",
    "acquisition_functions = [RandomSearch(batch_size=BATCH_SIZE),\n",
    "                         Greedy(batch_size=BATCH_SIZE),\n",
    "                        UBC(batch_size=BATCH_SIZE)]\n",
    "\n",
    "df_results = pd.DataFrame(columns=[\"experiment\",\n",
    "                                \"model\",\n",
    "                                \"batch_size\",\n",
    "                                \"acquisition_function\", \n",
    "                                \"ratio_iteration_0\",\n",
    "                                \"ratio_iteration_1\",\n",
    "                                \"ratio_iteration_2\",\n",
    "                                \"ratio_iteration_3\",\n",
    "                                \"ratio_iteration_4\",\n",
    "                                \"ratio_iteration_5\",\n",
    "                                \"ratio_iteration_6\"])"
   ]
  },
  {
   "cell_type": "code",
   "execution_count": 82,
   "metadata": {},
   "outputs": [
    {
     "name": "stdout",
     "output_type": "stream",
     "text": [
      "Model used  : RandomForestRegressor\n",
      "Acquisition function used  : RandomSearch\n",
      "Batch Size  : 500\n",
      "Initialize training set...\n",
      "% of top 500 molecules found : 0.8 %\n",
      "==================================================\n",
      "ITERATION 0\n",
      "Train set shape :  (500, 202)\n",
      "Training the model...\n",
      "R2 score on train:  0.9191898987453211\n",
      "Get top k molecules...\n",
      "% of top 500 molecules found : 1.7999999999999998 %\n",
      "==================================================\n",
      "ITERATION 1\n",
      "Train set shape :  (1000, 202)\n",
      "Training the model...\n",
      "R2 score on train:  0.9007564052240188\n",
      "Get top k molecules...\n",
      "% of top 500 molecules found : 2.4 %\n",
      "==================================================\n",
      "ITERATION 2\n",
      "Train set shape :  (1500, 202)\n",
      "Training the model...\n",
      "R2 score on train:  0.8834051943923825\n",
      "Get top k molecules...\n",
      "% of top 500 molecules found : 3.4000000000000004 %\n",
      "==================================================\n",
      "ITERATION 3\n",
      "Train set shape :  (2000, 202)\n",
      "Training the model...\n",
      "R2 score on train:  0.8664960417994602\n",
      "Get top k molecules...\n",
      "% of top 500 molecules found : 4.3999999999999995 %\n",
      "==================================================\n",
      "ITERATION 4\n",
      "Train set shape :  (2500, 202)\n",
      "Training the model...\n",
      "R2 score on train:  0.8502409284685195\n",
      "Get top k molecules...\n",
      "% of top 500 molecules found : 4.8 %\n",
      "==================================================\n",
      "ITERATION 5\n",
      "Train set shape :  (3000, 202)\n",
      "Training the model...\n",
      "R2 score on train:  0.8393384385631382\n",
      "Get top k molecules...\n",
      "% of top 500 molecules found : 5.6000000000000005 %\n",
      "==================================================\n",
      "Initialize training set...\n",
      "% of top 500 molecules found : 1.0 %\n",
      "==================================================\n",
      "ITERATION 0\n",
      "Train set shape :  (500, 202)\n",
      "Training the model...\n",
      "R2 score on train:  0.9282937554104148\n",
      "Get top k molecules...\n",
      "% of top 500 molecules found : 1.6 %\n",
      "==================================================\n",
      "ITERATION 1\n",
      "Train set shape :  (1000, 202)\n",
      "Training the model...\n",
      "R2 score on train:  0.9001767361081763\n",
      "Get top k molecules...\n",
      "% of top 500 molecules found : 4.0 %\n",
      "==================================================\n",
      "ITERATION 2\n",
      "Train set shape :  (1500, 202)\n",
      "Training the model...\n",
      "R2 score on train:  0.8829683032123816\n",
      "Get top k molecules...\n",
      "% of top 500 molecules found : 5.0 %\n",
      "==================================================\n",
      "ITERATION 3\n",
      "Train set shape :  (2000, 202)\n",
      "Training the model...\n",
      "R2 score on train:  0.8709586872687469\n",
      "Get top k molecules...\n",
      "% of top 500 molecules found : 6.2 %\n",
      "==================================================\n",
      "ITERATION 4\n",
      "Train set shape :  (2500, 202)\n",
      "Training the model...\n",
      "R2 score on train:  0.861194543929405\n",
      "Get top k molecules...\n",
      "% of top 500 molecules found : 6.800000000000001 %\n",
      "==================================================\n",
      "ITERATION 5\n",
      "Train set shape :  (3000, 202)\n",
      "Training the model...\n",
      "R2 score on train:  0.853494687096175\n",
      "Get top k molecules...\n",
      "% of top 500 molecules found : 8.4 %\n",
      "==================================================\n",
      "Initialize training set...\n",
      "% of top 500 molecules found : 0.4 %\n",
      "==================================================\n",
      "ITERATION 0\n",
      "Train set shape :  (500, 202)\n",
      "Training the model...\n",
      "R2 score on train:  0.9204123881039631\n",
      "Get top k molecules...\n",
      "% of top 500 molecules found : 1.2 %\n",
      "==================================================\n",
      "ITERATION 1\n",
      "Train set shape :  (1000, 202)\n",
      "Training the model...\n",
      "R2 score on train:  0.8885796166193375\n",
      "Get top k molecules...\n",
      "% of top 500 molecules found : 1.7999999999999998 %\n",
      "==================================================\n",
      "ITERATION 2\n",
      "Train set shape :  (1500, 202)\n",
      "Training the model...\n",
      "R2 score on train:  0.8755002487978556\n",
      "Get top k molecules...\n",
      "% of top 500 molecules found : 2.8000000000000003 %\n",
      "==================================================\n",
      "ITERATION 3\n",
      "Train set shape :  (2000, 202)\n",
      "Training the model...\n",
      "R2 score on train:  0.8695667877835934\n",
      "Get top k molecules...\n",
      "% of top 500 molecules found : 3.8 %\n",
      "==================================================\n",
      "ITERATION 4\n",
      "Train set shape :  (2500, 202)\n",
      "Training the model...\n",
      "R2 score on train:  0.8564959575530411\n",
      "Get top k molecules...\n",
      "% of top 500 molecules found : 5.0 %\n",
      "==================================================\n",
      "ITERATION 5\n",
      "Train set shape :  (3000, 202)\n",
      "Training the model...\n",
      "R2 score on train:  0.8491732241765101\n",
      "Get top k molecules...\n",
      "% of top 500 molecules found : 5.6000000000000005 %\n",
      "==================================================\n",
      "Initialize training set...\n",
      "% of top 500 molecules found : 1.7999999999999998 %\n",
      "==================================================\n",
      "ITERATION 0\n",
      "Train set shape :  (500, 202)\n",
      "Training the model...\n",
      "R2 score on train:  0.922710745146661\n",
      "Get top k molecules...\n",
      "% of top 500 molecules found : 2.4 %\n",
      "==================================================\n",
      "ITERATION 1\n",
      "Train set shape :  (1000, 202)\n",
      "Training the model...\n",
      "R2 score on train:  0.8975942431994095\n",
      "Get top k molecules...\n",
      "% of top 500 molecules found : 3.5999999999999996 %\n",
      "==================================================\n",
      "ITERATION 2\n",
      "Train set shape :  (1500, 202)\n",
      "Training the model...\n",
      "R2 score on train:  0.8802945274516601\n",
      "Get top k molecules...\n",
      "% of top 500 molecules found : 5.0 %\n",
      "==================================================\n",
      "ITERATION 3\n",
      "Train set shape :  (2000, 202)\n",
      "Training the model...\n",
      "R2 score on train:  0.8672976410104983\n",
      "Get top k molecules...\n",
      "% of top 500 molecules found : 7.199999999999999 %\n",
      "==================================================\n",
      "ITERATION 4\n",
      "Train set shape :  (2500, 202)\n",
      "Training the model...\n",
      "R2 score on train:  0.8573173861389735\n",
      "Get top k molecules...\n",
      "% of top 500 molecules found : 8.799999999999999 %\n",
      "==================================================\n",
      "ITERATION 5\n",
      "Train set shape :  (3000, 202)\n",
      "Training the model...\n",
      "R2 score on train:  0.8451949644670596\n",
      "Get top k molecules...\n",
      "% of top 500 molecules found : 9.8 %\n",
      "==================================================\n",
      "Initialize training set...\n",
      "% of top 500 molecules found : 0.8 %\n",
      "==================================================\n",
      "ITERATION 0\n",
      "Train set shape :  (500, 202)\n",
      "Training the model...\n",
      "R2 score on train:  0.9148442142545264\n",
      "Get top k molecules...\n",
      "% of top 500 molecules found : 1.6 %\n",
      "==================================================\n",
      "ITERATION 1\n",
      "Train set shape :  (1000, 202)\n",
      "Training the model...\n",
      "R2 score on train:  0.9011055093181926\n",
      "Get top k molecules...\n",
      "% of top 500 molecules found : 2.1999999999999997 %\n",
      "==================================================\n",
      "ITERATION 2\n",
      "Train set shape :  (1500, 202)\n",
      "Training the model...\n",
      "R2 score on train:  0.8812306281737875\n",
      "Get top k molecules...\n",
      "% of top 500 molecules found : 3.8 %\n",
      "==================================================\n",
      "ITERATION 3\n",
      "Train set shape :  (2000, 202)\n",
      "Training the model...\n",
      "R2 score on train:  0.8690097497434192\n",
      "Get top k molecules...\n",
      "% of top 500 molecules found : 4.6 %\n",
      "==================================================\n",
      "ITERATION 4\n",
      "Train set shape :  (2500, 202)\n",
      "Training the model...\n",
      "R2 score on train:  0.8559447026859897\n",
      "Get top k molecules...\n",
      "% of top 500 molecules found : 5.0 %\n",
      "==================================================\n",
      "ITERATION 5\n",
      "Train set shape :  (3000, 202)\n",
      "Training the model...\n",
      "R2 score on train:  0.8453305718924626\n",
      "Get top k molecules...\n",
      "% of top 500 molecules found : 6.4 %\n",
      "==================================================\n",
      "Model used  : RandomForestRegressor\n",
      "Acquisition function used  : Greedy\n",
      "Batch Size  : 500\n",
      "Initialize training set...\n",
      "% of top 500 molecules found : 1.6 %\n",
      "==================================================\n",
      "ITERATION 0\n",
      "Train set shape :  (500, 202)\n",
      "Training the model...\n",
      "R2 score on train:  0.9253751785264359\n",
      "Get top k molecules...\n",
      "% of top 500 molecules found : 24.6 %\n",
      "==================================================\n",
      "ITERATION 1\n",
      "Train set shape :  (1000, 202)\n",
      "Training the model...\n",
      "R2 score on train:  0.9269951916000551\n",
      "Get top k molecules...\n",
      "% of top 500 molecules found : 35.199999999999996 %\n",
      "==================================================\n",
      "ITERATION 2\n",
      "Train set shape :  (1500, 202)\n",
      "Training the model...\n",
      "R2 score on train:  0.8726981625071646\n",
      "Get top k molecules...\n",
      "% of top 500 molecules found : 47.0 %\n",
      "==================================================\n",
      "ITERATION 3\n",
      "Train set shape :  (2000, 202)\n",
      "Training the model...\n"
     ]
    },
    {
     "name": "stdout",
     "output_type": "stream",
     "text": [
      "R2 score on train:  0.8314949481760588\n",
      "Get top k molecules...\n",
      "% of top 500 molecules found : 57.199999999999996 %\n",
      "==================================================\n",
      "ITERATION 4\n",
      "Train set shape :  (2500, 202)\n",
      "Training the model...\n",
      "R2 score on train:  0.7765429056894746\n",
      "Get top k molecules...\n",
      "% of top 500 molecules found : 64.8 %\n",
      "==================================================\n",
      "ITERATION 5\n",
      "Train set shape :  (3000, 202)\n",
      "Training the model...\n",
      "R2 score on train:  0.7416168231297964\n",
      "Get top k molecules...\n",
      "% of top 500 molecules found : 69.19999999999999 %\n",
      "==================================================\n",
      "Initialize training set...\n",
      "% of top 500 molecules found : 0.8 %\n",
      "==================================================\n",
      "ITERATION 0\n",
      "Train set shape :  (500, 202)\n",
      "Training the model...\n",
      "R2 score on train:  0.9270105432374116\n",
      "Get top k molecules...\n",
      "% of top 500 molecules found : 24.4 %\n",
      "==================================================\n",
      "ITERATION 1\n",
      "Train set shape :  (1000, 202)\n",
      "Training the model...\n",
      "R2 score on train:  0.9290062305502039\n",
      "Get top k molecules...\n",
      "% of top 500 molecules found : 38.800000000000004 %\n",
      "==================================================\n",
      "ITERATION 2\n",
      "Train set shape :  (1500, 202)\n",
      "Training the model...\n",
      "R2 score on train:  0.8732843084817177\n",
      "Get top k molecules...\n",
      "% of top 500 molecules found : 49.6 %\n",
      "==================================================\n",
      "ITERATION 3\n",
      "Train set shape :  (2000, 202)\n",
      "Training the model...\n",
      "R2 score on train:  0.8243375066799521\n",
      "Get top k molecules...\n",
      "% of top 500 molecules found : 56.99999999999999 %\n",
      "==================================================\n",
      "ITERATION 4\n",
      "Train set shape :  (2500, 202)\n",
      "Training the model...\n",
      "R2 score on train:  0.7812326436316536\n",
      "Get top k molecules...\n",
      "% of top 500 molecules found : 65.2 %\n",
      "==================================================\n",
      "ITERATION 5\n",
      "Train set shape :  (3000, 202)\n",
      "Training the model...\n",
      "R2 score on train:  0.7466369263583272\n",
      "Get top k molecules...\n",
      "% of top 500 molecules found : 70.8 %\n",
      "==================================================\n",
      "Initialize training set...\n",
      "% of top 500 molecules found : 1.0 %\n",
      "==================================================\n",
      "ITERATION 0\n",
      "Train set shape :  (500, 202)\n",
      "Training the model...\n",
      "R2 score on train:  0.9302651306799061\n",
      "Get top k molecules...\n",
      "% of top 500 molecules found : 26.400000000000002 %\n",
      "==================================================\n",
      "ITERATION 1\n",
      "Train set shape :  (1000, 202)\n",
      "Training the model...\n",
      "R2 score on train:  0.9264209553077873\n",
      "Get top k molecules...\n",
      "% of top 500 molecules found : 37.2 %\n",
      "==================================================\n",
      "ITERATION 2\n",
      "Train set shape :  (1500, 202)\n",
      "Training the model...\n",
      "R2 score on train:  0.8705497574575614\n",
      "Get top k molecules...\n",
      "% of top 500 molecules found : 48.199999999999996 %\n",
      "==================================================\n",
      "ITERATION 3\n",
      "Train set shape :  (2000, 202)\n",
      "Training the model...\n",
      "R2 score on train:  0.8224633204080164\n",
      "Get top k molecules...\n",
      "% of top 500 molecules found : 54.2 %\n",
      "==================================================\n",
      "ITERATION 4\n",
      "Train set shape :  (2500, 202)\n",
      "Training the model...\n",
      "R2 score on train:  0.7722708924148032\n",
      "Get top k molecules...\n",
      "% of top 500 molecules found : 59.8 %\n",
      "==================================================\n",
      "ITERATION 5\n",
      "Train set shape :  (3000, 202)\n",
      "Training the model...\n",
      "R2 score on train:  0.7387335627681599\n",
      "Get top k molecules...\n",
      "% of top 500 molecules found : 68.2 %\n",
      "==================================================\n",
      "Initialize training set...\n",
      "% of top 500 molecules found : 1.0 %\n",
      "==================================================\n",
      "ITERATION 0\n",
      "Train set shape :  (500, 202)\n",
      "Training the model...\n",
      "R2 score on train:  0.9203522951352109\n",
      "Get top k molecules...\n",
      "% of top 500 molecules found : 23.400000000000002 %\n",
      "==================================================\n",
      "ITERATION 1\n",
      "Train set shape :  (1000, 202)\n",
      "Training the model...\n",
      "R2 score on train:  0.9195639979640768\n",
      "Get top k molecules...\n",
      "% of top 500 molecules found : 40.400000000000006 %\n",
      "==================================================\n",
      "ITERATION 2\n",
      "Train set shape :  (1500, 202)\n",
      "Training the model...\n",
      "R2 score on train:  0.8710926864606722\n",
      "Get top k molecules...\n",
      "% of top 500 molecules found : 51.4 %\n",
      "==================================================\n",
      "ITERATION 3\n",
      "Train set shape :  (2000, 202)\n",
      "Training the model...\n",
      "R2 score on train:  0.8215813007580075\n",
      "Get top k molecules...\n",
      "% of top 500 molecules found : 57.599999999999994 %\n",
      "==================================================\n",
      "ITERATION 4\n",
      "Train set shape :  (2500, 202)\n",
      "Training the model...\n",
      "R2 score on train:  0.7747095061855023\n",
      "Get top k molecules...\n",
      "% of top 500 molecules found : 65.8 %\n",
      "==================================================\n",
      "ITERATION 5\n",
      "Train set shape :  (3000, 202)\n",
      "Training the model...\n",
      "R2 score on train:  0.7335364057874347\n",
      "Get top k molecules...\n",
      "% of top 500 molecules found : 71.0 %\n",
      "==================================================\n",
      "Initialize training set...\n",
      "% of top 500 molecules found : 1.2 %\n",
      "==================================================\n",
      "ITERATION 0\n",
      "Train set shape :  (500, 202)\n",
      "Training the model...\n",
      "R2 score on train:  0.919249347351498\n",
      "Get top k molecules...\n",
      "% of top 500 molecules found : 23.200000000000003 %\n",
      "==================================================\n",
      "ITERATION 1\n",
      "Train set shape :  (1000, 202)\n",
      "Training the model...\n",
      "R2 score on train:  0.930383485680861\n",
      "Get top k molecules...\n",
      "% of top 500 molecules found : 36.4 %\n",
      "==================================================\n",
      "ITERATION 2\n",
      "Train set shape :  (1500, 202)\n",
      "Training the model...\n",
      "R2 score on train:  0.8707382819452425\n",
      "Get top k molecules...\n",
      "% of top 500 molecules found : 43.8 %\n",
      "==================================================\n",
      "ITERATION 3\n",
      "Train set shape :  (2000, 202)\n",
      "Training the model...\n",
      "R2 score on train:  0.8306365015294416\n",
      "Get top k molecules...\n",
      "% of top 500 molecules found : 52.0 %\n",
      "==================================================\n",
      "ITERATION 4\n",
      "Train set shape :  (2500, 202)\n",
      "Training the model...\n",
      "R2 score on train:  0.7972363780654586\n",
      "Get top k molecules...\n",
      "% of top 500 molecules found : 62.0 %\n",
      "==================================================\n",
      "ITERATION 5\n",
      "Train set shape :  (3000, 202)\n",
      "Training the model...\n",
      "R2 score on train:  0.7557204353348219\n",
      "Get top k molecules...\n",
      "% of top 500 molecules found : 70.6 %\n",
      "==================================================\n",
      "Model used  : RandomForestRegressor\n",
      "Acquisition function used  : UBC\n",
      "Batch Size  : 500\n",
      "Initialize training set...\n",
      "% of top 500 molecules found : 0.6 %\n",
      "==================================================\n",
      "ITERATION 0\n",
      "Train set shape :  (500, 202)\n",
      "Training the model...\n",
      "R2 score on train:  0.9176039305972206\n"
     ]
    },
    {
     "name": "stderr",
     "output_type": "stream",
     "text": [
      "2it [00:00, 15.88it/s]"
     ]
    },
    {
     "name": "stdout",
     "output_type": "stream",
     "text": [
      "Computing the variance...\n"
     ]
    },
    {
     "name": "stderr",
     "output_type": "stream",
     "text": [
      "100it [00:05, 18.13it/s]\n"
     ]
    },
    {
     "name": "stdout",
     "output_type": "stream",
     "text": [
      "Get top k molecules...\n",
      "% of top 500 molecules found : 21.0 %\n",
      "==================================================\n",
      "ITERATION 1\n",
      "Train set shape :  (1000, 202)\n",
      "Training the model...\n",
      "R2 score on train:  0.9168376727554477\n"
     ]
    },
    {
     "name": "stderr",
     "output_type": "stream",
     "text": [
      "2it [00:00, 16.27it/s]"
     ]
    },
    {
     "name": "stdout",
     "output_type": "stream",
     "text": [
      "Computing the variance...\n"
     ]
    },
    {
     "name": "stderr",
     "output_type": "stream",
     "text": [
      "100it [00:05, 18.49it/s]\n"
     ]
    },
    {
     "name": "stdout",
     "output_type": "stream",
     "text": [
      "Get top k molecules...\n",
      "% of top 500 molecules found : 39.0 %\n",
      "==================================================\n",
      "ITERATION 2\n",
      "Train set shape :  (1500, 202)\n",
      "Training the model...\n",
      "R2 score on train:  0.8671364825533672\n"
     ]
    },
    {
     "name": "stderr",
     "output_type": "stream",
     "text": [
      "2it [00:00, 16.54it/s]"
     ]
    },
    {
     "name": "stdout",
     "output_type": "stream",
     "text": [
      "Computing the variance...\n"
     ]
    },
    {
     "name": "stderr",
     "output_type": "stream",
     "text": [
      "100it [00:05, 18.90it/s]\n"
     ]
    },
    {
     "name": "stdout",
     "output_type": "stream",
     "text": [
      "Get top k molecules...\n",
      "% of top 500 molecules found : 48.6 %\n",
      "==================================================\n",
      "ITERATION 3\n",
      "Train set shape :  (2000, 202)\n",
      "Training the model...\n",
      "R2 score on train:  0.8261542047038257\n"
     ]
    },
    {
     "name": "stderr",
     "output_type": "stream",
     "text": [
      "2it [00:00, 16.96it/s]"
     ]
    },
    {
     "name": "stdout",
     "output_type": "stream",
     "text": [
      "Computing the variance...\n"
     ]
    },
    {
     "name": "stderr",
     "output_type": "stream",
     "text": [
      "100it [00:05, 19.04it/s]\n"
     ]
    },
    {
     "name": "stdout",
     "output_type": "stream",
     "text": [
      "Get top k molecules...\n",
      "% of top 500 molecules found : 56.599999999999994 %\n",
      "==================================================\n",
      "ITERATION 4\n",
      "Train set shape :  (2500, 202)\n",
      "Training the model...\n",
      "R2 score on train:  0.7853051806658671\n"
     ]
    },
    {
     "name": "stderr",
     "output_type": "stream",
     "text": [
      "2it [00:00, 17.42it/s]"
     ]
    },
    {
     "name": "stdout",
     "output_type": "stream",
     "text": [
      "Computing the variance...\n"
     ]
    },
    {
     "name": "stderr",
     "output_type": "stream",
     "text": [
      "100it [00:04, 20.20it/s]\n"
     ]
    },
    {
     "name": "stdout",
     "output_type": "stream",
     "text": [
      "Get top k molecules...\n",
      "% of top 500 molecules found : 62.0 %\n",
      "==================================================\n",
      "ITERATION 5\n",
      "Train set shape :  (3000, 202)\n",
      "Training the model...\n",
      "R2 score on train:  0.7639117829921189\n"
     ]
    },
    {
     "name": "stderr",
     "output_type": "stream",
     "text": [
      "2it [00:00, 19.47it/s]"
     ]
    },
    {
     "name": "stdout",
     "output_type": "stream",
     "text": [
      "Computing the variance...\n"
     ]
    },
    {
     "name": "stderr",
     "output_type": "stream",
     "text": [
      "100it [00:04, 20.12it/s]\n"
     ]
    },
    {
     "name": "stdout",
     "output_type": "stream",
     "text": [
      "Get top k molecules...\n",
      "% of top 500 molecules found : 64.4 %\n",
      "==================================================\n",
      "Initialize training set...\n",
      "% of top 500 molecules found : 0.4 %\n",
      "==================================================\n",
      "ITERATION 0\n",
      "Train set shape :  (500, 202)\n",
      "Training the model...\n",
      "R2 score on train:  0.9160498041729901\n"
     ]
    },
    {
     "name": "stderr",
     "output_type": "stream",
     "text": [
      "2it [00:00, 17.32it/s]"
     ]
    },
    {
     "name": "stdout",
     "output_type": "stream",
     "text": [
      "Computing the variance...\n"
     ]
    },
    {
     "name": "stderr",
     "output_type": "stream",
     "text": [
      "100it [00:05, 18.96it/s]\n"
     ]
    },
    {
     "name": "stdout",
     "output_type": "stream",
     "text": [
      "Get top k molecules...\n",
      "% of top 500 molecules found : 20.0 %\n",
      "==================================================\n",
      "ITERATION 1\n",
      "Train set shape :  (1000, 202)\n",
      "Training the model...\n",
      "R2 score on train:  0.9234087005468676\n"
     ]
    },
    {
     "name": "stderr",
     "output_type": "stream",
     "text": [
      "2it [00:00, 15.99it/s]"
     ]
    },
    {
     "name": "stdout",
     "output_type": "stream",
     "text": [
      "Computing the variance...\n"
     ]
    },
    {
     "name": "stderr",
     "output_type": "stream",
     "text": [
      "100it [00:05, 19.13it/s]\n"
     ]
    },
    {
     "name": "stdout",
     "output_type": "stream",
     "text": [
      "Get top k molecules...\n",
      "% of top 500 molecules found : 37.6 %\n",
      "==================================================\n",
      "ITERATION 2\n",
      "Train set shape :  (1500, 202)\n",
      "Training the model...\n",
      "R2 score on train:  0.8649871344119886\n"
     ]
    },
    {
     "name": "stderr",
     "output_type": "stream",
     "text": [
      "2it [00:00, 16.96it/s]"
     ]
    },
    {
     "name": "stdout",
     "output_type": "stream",
     "text": [
      "Computing the variance...\n"
     ]
    },
    {
     "name": "stderr",
     "output_type": "stream",
     "text": [
      "100it [00:05, 18.85it/s]\n"
     ]
    },
    {
     "name": "stdout",
     "output_type": "stream",
     "text": [
      "Get top k molecules...\n",
      "% of top 500 molecules found : 45.4 %\n",
      "==================================================\n",
      "ITERATION 3\n",
      "Train set shape :  (2000, 202)\n",
      "Training the model...\n",
      "R2 score on train:  0.8271460297615898\n"
     ]
    },
    {
     "name": "stderr",
     "output_type": "stream",
     "text": [
      "2it [00:00, 16.54it/s]"
     ]
    },
    {
     "name": "stdout",
     "output_type": "stream",
     "text": [
      "Computing the variance...\n"
     ]
    },
    {
     "name": "stderr",
     "output_type": "stream",
     "text": [
      "100it [00:05, 19.18it/s]\n"
     ]
    },
    {
     "name": "stdout",
     "output_type": "stream",
     "text": [
      "Get top k molecules...\n",
      "% of top 500 molecules found : 50.0 %\n",
      "==================================================\n",
      "ITERATION 4\n",
      "Train set shape :  (2500, 202)\n",
      "Training the model...\n",
      "R2 score on train:  0.7831093162446884\n"
     ]
    },
    {
     "name": "stderr",
     "output_type": "stream",
     "text": [
      "2it [00:00, 16.14it/s]"
     ]
    },
    {
     "name": "stdout",
     "output_type": "stream",
     "text": [
      "Computing the variance...\n"
     ]
    },
    {
     "name": "stderr",
     "output_type": "stream",
     "text": [
      "100it [00:05, 19.43it/s]\n"
     ]
    },
    {
     "name": "stdout",
     "output_type": "stream",
     "text": [
      "Get top k molecules...\n",
      "% of top 500 molecules found : 55.2 %\n",
      "==================================================\n",
      "ITERATION 5\n",
      "Train set shape :  (3000, 202)\n",
      "Training the model...\n",
      "R2 score on train:  0.7492802872677031\n"
     ]
    },
    {
     "name": "stderr",
     "output_type": "stream",
     "text": [
      "2it [00:00, 17.55it/s]"
     ]
    },
    {
     "name": "stdout",
     "output_type": "stream",
     "text": [
      "Computing the variance...\n"
     ]
    },
    {
     "name": "stderr",
     "output_type": "stream",
     "text": [
      "100it [00:05, 19.76it/s]\n"
     ]
    },
    {
     "name": "stdout",
     "output_type": "stream",
     "text": [
      "Get top k molecules...\n",
      "% of top 500 molecules found : 60.8 %\n",
      "==================================================\n",
      "Initialize training set...\n",
      "% of top 500 molecules found : 0.8 %\n",
      "==================================================\n",
      "ITERATION 0\n",
      "Train set shape :  (500, 202)\n",
      "Training the model...\n",
      "R2 score on train:  0.9130697793142748\n"
     ]
    },
    {
     "name": "stderr",
     "output_type": "stream",
     "text": [
      "2it [00:00, 16.01it/s]"
     ]
    },
    {
     "name": "stdout",
     "output_type": "stream",
     "text": [
      "Computing the variance...\n"
     ]
    },
    {
     "name": "stderr",
     "output_type": "stream",
     "text": [
      "100it [00:05, 18.09it/s]\n"
     ]
    },
    {
     "name": "stdout",
     "output_type": "stream",
     "text": [
      "Get top k molecules...\n",
      "% of top 500 molecules found : 25.0 %\n",
      "==================================================\n",
      "ITERATION 1\n",
      "Train set shape :  (1000, 202)\n",
      "Training the model...\n",
      "R2 score on train:  0.9253768113002744\n"
     ]
    },
    {
     "name": "stderr",
     "output_type": "stream",
     "text": [
      "2it [00:00, 15.76it/s]"
     ]
    },
    {
     "name": "stdout",
     "output_type": "stream",
     "text": [
      "Computing the variance...\n"
     ]
    },
    {
     "name": "stderr",
     "output_type": "stream",
     "text": [
      "100it [00:05, 18.40it/s]\n"
     ]
    },
    {
     "name": "stdout",
     "output_type": "stream",
     "text": [
      "Get top k molecules...\n",
      "% of top 500 molecules found : 38.2 %\n",
      "==================================================\n",
      "ITERATION 2\n",
      "Train set shape :  (1500, 202)\n",
      "Training the model...\n",
      "R2 score on train:  0.8792257940166801\n"
     ]
    },
    {
     "name": "stderr",
     "output_type": "stream",
     "text": [
      "2it [00:00, 16.40it/s]"
     ]
    },
    {
     "name": "stdout",
     "output_type": "stream",
     "text": [
      "Computing the variance...\n"
     ]
    },
    {
     "name": "stderr",
     "output_type": "stream",
     "text": [
      "100it [00:05, 18.46it/s]\n"
     ]
    },
    {
     "name": "stdout",
     "output_type": "stream",
     "text": [
      "Get top k molecules...\n",
      "% of top 500 molecules found : 49.4 %\n",
      "==================================================\n",
      "ITERATION 3\n",
      "Train set shape :  (2000, 202)\n",
      "Training the model...\n",
      "R2 score on train:  0.8260244367378824\n"
     ]
    },
    {
     "name": "stderr",
     "output_type": "stream",
     "text": [
      "2it [00:00, 16.54it/s]"
     ]
    },
    {
     "name": "stdout",
     "output_type": "stream",
     "text": [
      "Computing the variance...\n"
     ]
    },
    {
     "name": "stderr",
     "output_type": "stream",
     "text": [
      "100it [00:05, 19.00it/s]\n"
     ]
    },
    {
     "name": "stdout",
     "output_type": "stream",
     "text": [
      "Get top k molecules...\n",
      "% of top 500 molecules found : 55.400000000000006 %\n",
      "==================================================\n",
      "ITERATION 4\n",
      "Train set shape :  (2500, 202)\n",
      "Training the model...\n",
      "R2 score on train:  0.7895125531370597\n"
     ]
    },
    {
     "name": "stderr",
     "output_type": "stream",
     "text": [
      "2it [00:00, 15.76it/s]"
     ]
    },
    {
     "name": "stdout",
     "output_type": "stream",
     "text": [
      "Computing the variance...\n"
     ]
    },
    {
     "name": "stderr",
     "output_type": "stream",
     "text": [
      "100it [00:05, 19.02it/s]\n"
     ]
    },
    {
     "name": "stdout",
     "output_type": "stream",
     "text": [
      "Get top k molecules...\n",
      "% of top 500 molecules found : 60.4 %\n",
      "==================================================\n",
      "ITERATION 5\n",
      "Train set shape :  (3000, 202)\n",
      "Training the model...\n",
      "R2 score on train:  0.7571670261250569\n"
     ]
    },
    {
     "name": "stderr",
     "output_type": "stream",
     "text": [
      "2it [00:00, 16.82it/s]"
     ]
    },
    {
     "name": "stdout",
     "output_type": "stream",
     "text": [
      "Computing the variance...\n"
     ]
    },
    {
     "name": "stderr",
     "output_type": "stream",
     "text": [
      "100it [00:05, 19.15it/s]\n"
     ]
    },
    {
     "name": "stdout",
     "output_type": "stream",
     "text": [
      "Get top k molecules...\n",
      "% of top 500 molecules found : 65.4 %\n",
      "==================================================\n",
      "Initialize training set...\n",
      "% of top 500 molecules found : 0.4 %\n",
      "==================================================\n",
      "ITERATION 0\n",
      "Train set shape :  (500, 202)\n",
      "Training the model...\n",
      "R2 score on train:  0.9186780079162453\n"
     ]
    },
    {
     "name": "stderr",
     "output_type": "stream",
     "text": [
      "2it [00:00, 16.01it/s]"
     ]
    },
    {
     "name": "stdout",
     "output_type": "stream",
     "text": [
      "Computing the variance...\n"
     ]
    },
    {
     "name": "stderr",
     "output_type": "stream",
     "text": [
      "100it [00:05, 18.21it/s]\n"
     ]
    },
    {
     "name": "stdout",
     "output_type": "stream",
     "text": [
      "Get top k molecules...\n",
      "% of top 500 molecules found : 23.400000000000002 %\n",
      "==================================================\n",
      "ITERATION 1\n",
      "Train set shape :  (1000, 202)\n",
      "Training the model...\n",
      "R2 score on train:  0.9251943779824736\n"
     ]
    },
    {
     "name": "stderr",
     "output_type": "stream",
     "text": [
      "2it [00:00, 17.58it/s]"
     ]
    },
    {
     "name": "stdout",
     "output_type": "stream",
     "text": [
      "Computing the variance...\n"
     ]
    },
    {
     "name": "stderr",
     "output_type": "stream",
     "text": [
      "100it [00:05, 18.92it/s]\n"
     ]
    },
    {
     "name": "stdout",
     "output_type": "stream",
     "text": [
      "Get top k molecules...\n",
      "% of top 500 molecules found : 36.4 %\n",
      "==================================================\n",
      "ITERATION 2\n",
      "Train set shape :  (1500, 202)\n",
      "Training the model...\n",
      "R2 score on train:  0.8731521154537032\n"
     ]
    },
    {
     "name": "stderr",
     "output_type": "stream",
     "text": [
      "2it [00:00, 17.60it/s]"
     ]
    },
    {
     "name": "stdout",
     "output_type": "stream",
     "text": [
      "Computing the variance...\n"
     ]
    },
    {
     "name": "stderr",
     "output_type": "stream",
     "text": [
      "100it [00:05, 18.85it/s]\n"
     ]
    },
    {
     "name": "stdout",
     "output_type": "stream",
     "text": [
      "Get top k molecules...\n",
      "% of top 500 molecules found : 47.199999999999996 %\n",
      "==================================================\n",
      "ITERATION 3\n",
      "Train set shape :  (2000, 202)\n",
      "Training the model...\n",
      "R2 score on train:  0.831526290410746\n"
     ]
    },
    {
     "name": "stderr",
     "output_type": "stream",
     "text": [
      "2it [00:00, 16.68it/s]"
     ]
    },
    {
     "name": "stdout",
     "output_type": "stream",
     "text": [
      "Computing the variance...\n"
     ]
    },
    {
     "name": "stderr",
     "output_type": "stream",
     "text": [
      "100it [00:05, 18.94it/s]\n"
     ]
    },
    {
     "name": "stdout",
     "output_type": "stream",
     "text": [
      "Get top k molecules...\n",
      "% of top 500 molecules found : 55.00000000000001 %\n",
      "==================================================\n",
      "ITERATION 4\n",
      "Train set shape :  (2500, 202)\n",
      "Training the model...\n",
      "R2 score on train:  0.7967238114613439\n"
     ]
    },
    {
     "name": "stderr",
     "output_type": "stream",
     "text": [
      "2it [00:00, 16.40it/s]"
     ]
    },
    {
     "name": "stdout",
     "output_type": "stream",
     "text": [
      "Computing the variance...\n"
     ]
    },
    {
     "name": "stderr",
     "output_type": "stream",
     "text": [
      "100it [00:05, 18.99it/s]\n"
     ]
    },
    {
     "name": "stdout",
     "output_type": "stream",
     "text": [
      "Get top k molecules...\n",
      "% of top 500 molecules found : 60.0 %\n",
      "==================================================\n",
      "ITERATION 5\n",
      "Train set shape :  (3000, 202)\n",
      "Training the model...\n",
      "R2 score on train:  0.7632429428760659\n"
     ]
    },
    {
     "name": "stderr",
     "output_type": "stream",
     "text": [
      "2it [00:00, 16.82it/s]"
     ]
    },
    {
     "name": "stdout",
     "output_type": "stream",
     "text": [
      "Computing the variance...\n"
     ]
    },
    {
     "name": "stderr",
     "output_type": "stream",
     "text": [
      "100it [00:05, 19.21it/s]\n"
     ]
    },
    {
     "name": "stdout",
     "output_type": "stream",
     "text": [
      "Get top k molecules...\n",
      "% of top 500 molecules found : 64.60000000000001 %\n",
      "==================================================\n",
      "Initialize training set...\n",
      "% of top 500 molecules found : 0.6 %\n",
      "==================================================\n",
      "ITERATION 0\n",
      "Train set shape :  (500, 202)\n",
      "Training the model...\n",
      "R2 score on train:  0.9271840611341284\n"
     ]
    },
    {
     "name": "stderr",
     "output_type": "stream",
     "text": [
      "2it [00:00, 15.88it/s]"
     ]
    },
    {
     "name": "stdout",
     "output_type": "stream",
     "text": [
      "Computing the variance...\n"
     ]
    },
    {
     "name": "stderr",
     "output_type": "stream",
     "text": [
      "100it [00:05, 18.19it/s]\n"
     ]
    },
    {
     "name": "stdout",
     "output_type": "stream",
     "text": [
      "Get top k molecules...\n",
      "% of top 500 molecules found : 15.2 %\n",
      "==================================================\n",
      "ITERATION 1\n",
      "Train set shape :  (1000, 202)\n",
      "Training the model...\n",
      "R2 score on train:  0.9216646306397743\n"
     ]
    },
    {
     "name": "stderr",
     "output_type": "stream",
     "text": [
      "2it [00:00, 15.76it/s]"
     ]
    },
    {
     "name": "stdout",
     "output_type": "stream",
     "text": [
      "Computing the variance...\n"
     ]
    },
    {
     "name": "stderr",
     "output_type": "stream",
     "text": [
      "100it [00:05, 18.32it/s]\n"
     ]
    },
    {
     "name": "stdout",
     "output_type": "stream",
     "text": [
      "Get top k molecules...\n",
      "% of top 500 molecules found : 31.4 %\n",
      "==================================================\n",
      "ITERATION 2\n",
      "Train set shape :  (1500, 202)\n",
      "Training the model...\n",
      "R2 score on train:  0.8778591588437927\n"
     ]
    },
    {
     "name": "stderr",
     "output_type": "stream",
     "text": [
      "2it [00:00, 16.14it/s]"
     ]
    },
    {
     "name": "stdout",
     "output_type": "stream",
     "text": [
      "Computing the variance...\n"
     ]
    },
    {
     "name": "stderr",
     "output_type": "stream",
     "text": [
      "100it [00:05, 18.45it/s]\n"
     ]
    },
    {
     "name": "stdout",
     "output_type": "stream",
     "text": [
      "Get top k molecules...\n",
      "% of top 500 molecules found : 42.8 %\n",
      "==================================================\n",
      "ITERATION 3\n",
      "Train set shape :  (2000, 202)\n",
      "Training the model...\n",
      "R2 score on train:  0.8319038725617114\n"
     ]
    },
    {
     "name": "stderr",
     "output_type": "stream",
     "text": [
      "2it [00:00, 16.40it/s]"
     ]
    },
    {
     "name": "stdout",
     "output_type": "stream",
     "text": [
      "Computing the variance...\n"
     ]
    },
    {
     "name": "stderr",
     "output_type": "stream",
     "text": [
      "100it [00:05, 18.65it/s]\n"
     ]
    },
    {
     "name": "stdout",
     "output_type": "stream",
     "text": [
      "Get top k molecules...\n",
      "% of top 500 molecules found : 49.2 %\n",
      "==================================================\n",
      "ITERATION 4\n",
      "Train set shape :  (2500, 202)\n",
      "Training the model...\n",
      "R2 score on train:  0.785588731563097\n"
     ]
    },
    {
     "name": "stderr",
     "output_type": "stream",
     "text": [
      "2it [00:00, 16.82it/s]"
     ]
    },
    {
     "name": "stdout",
     "output_type": "stream",
     "text": [
      "Computing the variance...\n"
     ]
    },
    {
     "name": "stderr",
     "output_type": "stream",
     "text": [
      "100it [00:05, 19.10it/s]\n"
     ]
    },
    {
     "name": "stdout",
     "output_type": "stream",
     "text": [
      "Get top k molecules...\n",
      "% of top 500 molecules found : 59.0 %\n",
      "==================================================\n",
      "ITERATION 5\n",
      "Train set shape :  (3000, 202)\n",
      "Training the model...\n",
      "R2 score on train:  0.7501265518473157\n"
     ]
    },
    {
     "name": "stderr",
     "output_type": "stream",
     "text": [
      "2it [00:00, 16.40it/s]"
     ]
    },
    {
     "name": "stdout",
     "output_type": "stream",
     "text": [
      "Computing the variance...\n"
     ]
    },
    {
     "name": "stderr",
     "output_type": "stream",
     "text": [
      "100it [00:05, 19.29it/s]\n"
     ]
    },
    {
     "name": "stdout",
     "output_type": "stream",
     "text": [
      "Get top k molecules...\n",
      "% of top 500 molecules found : 63.0 %\n",
      "==================================================\n",
      "Model used  : NN\n",
      "Acquisition function used  : RandomSearch\n",
      "Batch Size  : 500\n",
      "Initialize training set...\n",
      "% of top 500 molecules found : 1.2 %\n",
      "==================================================\n",
      "ITERATION 0\n",
      "Train set shape :  (500, 202)\n",
      "Training the model...\n",
      "Get top k molecules...\n",
      "% of top 500 molecules found : 1.7999999999999998 %\n",
      "==================================================\n",
      "ITERATION 1\n",
      "Train set shape :  (1000, 202)\n",
      "Training the model...\n",
      "Get top k molecules...\n",
      "% of top 500 molecules found : 2.8000000000000003 %\n",
      "==================================================\n",
      "ITERATION 2\n",
      "Train set shape :  (1500, 202)\n",
      "Training the model...\n",
      "Get top k molecules...\n",
      "% of top 500 molecules found : 3.0 %\n",
      "==================================================\n",
      "ITERATION 3\n",
      "Train set shape :  (2000, 202)\n",
      "Training the model...\n",
      "Get top k molecules...\n",
      "% of top 500 molecules found : 4.6 %\n",
      "==================================================\n",
      "ITERATION 4\n",
      "Train set shape :  (2500, 202)\n",
      "Training the model...\n",
      "Get top k molecules...\n",
      "% of top 500 molecules found : 5.800000000000001 %\n",
      "==================================================\n",
      "ITERATION 5\n",
      "Train set shape :  (3000, 202)\n",
      "Training the model...\n",
      "Get top k molecules...\n",
      "% of top 500 molecules found : 7.3999999999999995 %\n",
      "==================================================\n",
      "Initialize training set...\n",
      "% of top 500 molecules found : 0.2 %\n",
      "==================================================\n",
      "ITERATION 0\n",
      "Train set shape :  (500, 202)\n",
      "Training the model...\n",
      "Get top k molecules...\n",
      "% of top 500 molecules found : 1.4000000000000001 %\n",
      "==================================================\n",
      "ITERATION 1\n",
      "Train set shape :  (1000, 202)\n",
      "Training the model...\n",
      "Get top k molecules...\n",
      "% of top 500 molecules found : 2.6 %\n",
      "==================================================\n",
      "ITERATION 2\n",
      "Train set shape :  (1500, 202)\n",
      "Training the model...\n",
      "Get top k molecules...\n",
      "% of top 500 molecules found : 3.2 %\n",
      "==================================================\n",
      "ITERATION 3\n",
      "Train set shape :  (2000, 202)\n",
      "Training the model...\n",
      "Get top k molecules...\n",
      "% of top 500 molecules found : 3.8 %\n",
      "==================================================\n",
      "ITERATION 4\n",
      "Train set shape :  (2500, 202)\n",
      "Training the model...\n",
      "Get top k molecules...\n",
      "% of top 500 molecules found : 4.6 %\n",
      "==================================================\n",
      "ITERATION 5\n",
      "Train set shape :  (3000, 202)\n",
      "Training the model...\n",
      "Get top k molecules...\n",
      "% of top 500 molecules found : 5.4 %\n",
      "==================================================\n",
      "Initialize training set...\n",
      "% of top 500 molecules found : 1.2 %\n",
      "==================================================\n",
      "ITERATION 0\n",
      "Train set shape :  (500, 202)\n",
      "Training the model...\n",
      "Get top k molecules...\n",
      "% of top 500 molecules found : 1.7999999999999998 %\n",
      "==================================================\n",
      "ITERATION 1\n",
      "Train set shape :  (1000, 202)\n",
      "Training the model...\n",
      "Get top k molecules...\n",
      "% of top 500 molecules found : 3.4000000000000004 %\n",
      "==================================================\n",
      "ITERATION 2\n",
      "Train set shape :  (1500, 202)\n",
      "Training the model...\n",
      "Get top k molecules...\n",
      "% of top 500 molecules found : 4.2 %\n",
      "==================================================\n",
      "ITERATION 3\n",
      "Train set shape :  (2000, 202)\n",
      "Training the model...\n",
      "Get top k molecules...\n",
      "% of top 500 molecules found : 5.6000000000000005 %\n",
      "==================================================\n",
      "ITERATION 4\n",
      "Train set shape :  (2500, 202)\n",
      "Training the model...\n",
      "Get top k molecules...\n",
      "% of top 500 molecules found : 6.800000000000001 %\n",
      "==================================================\n",
      "ITERATION 5\n",
      "Train set shape :  (3000, 202)\n",
      "Training the model...\n",
      "Get top k molecules...\n",
      "% of top 500 molecules found : 7.3999999999999995 %\n",
      "==================================================\n",
      "Initialize training set...\n",
      "% of top 500 molecules found : 1.4000000000000001 %\n",
      "==================================================\n",
      "ITERATION 0\n",
      "Train set shape :  (500, 202)\n",
      "Training the model...\n",
      "Get top k molecules...\n",
      "% of top 500 molecules found : 2.0 %\n",
      "==================================================\n",
      "ITERATION 1\n",
      "Train set shape :  (1000, 202)\n",
      "Training the model...\n",
      "Get top k molecules...\n",
      "% of top 500 molecules found : 3.5999999999999996 %\n",
      "==================================================\n",
      "ITERATION 2\n",
      "Train set shape :  (1500, 202)\n",
      "Training the model...\n",
      "Get top k molecules...\n",
      "% of top 500 molecules found : 4.3999999999999995 %\n",
      "==================================================\n",
      "ITERATION 3\n",
      "Train set shape :  (2000, 202)\n",
      "Training the model...\n",
      "Get top k molecules...\n",
      "% of top 500 molecules found : 5.4 %\n",
      "==================================================\n",
      "ITERATION 4\n",
      "Train set shape :  (2500, 202)\n",
      "Training the model...\n",
      "Get top k molecules...\n",
      "% of top 500 molecules found : 6.0 %\n",
      "==================================================\n",
      "ITERATION 5\n",
      "Train set shape :  (3000, 202)\n",
      "Training the model...\n",
      "Get top k molecules...\n",
      "% of top 500 molecules found : 7.3999999999999995 %\n",
      "==================================================\n",
      "Initialize training set...\n",
      "% of top 500 molecules found : 1.0 %\n",
      "==================================================\n",
      "ITERATION 0\n",
      "Train set shape :  (500, 202)\n",
      "Training the model...\n",
      "Get top k molecules...\n",
      "% of top 500 molecules found : 1.6 %\n",
      "==================================================\n",
      "ITERATION 1\n",
      "Train set shape :  (1000, 202)\n",
      "Training the model...\n",
      "Get top k molecules...\n",
      "% of top 500 molecules found : 2.6 %\n",
      "==================================================\n",
      "ITERATION 2\n",
      "Train set shape :  (1500, 202)\n",
      "Training the model...\n",
      "Get top k molecules...\n",
      "% of top 500 molecules found : 3.5999999999999996 %\n",
      "==================================================\n",
      "ITERATION 3\n",
      "Train set shape :  (2000, 202)\n",
      "Training the model...\n",
      "Get top k molecules...\n",
      "% of top 500 molecules found : 4.3999999999999995 %\n",
      "==================================================\n",
      "ITERATION 4\n",
      "Train set shape :  (2500, 202)\n",
      "Training the model...\n",
      "Get top k molecules...\n",
      "% of top 500 molecules found : 5.6000000000000005 %\n",
      "==================================================\n",
      "ITERATION 5\n",
      "Train set shape :  (3000, 202)\n",
      "Training the model...\n",
      "Get top k molecules...\n",
      "% of top 500 molecules found : 8.0 %\n",
      "==================================================\n",
      "Model used  : NN\n",
      "Acquisition function used  : Greedy\n",
      "Batch Size  : 500\n",
      "Initialize training set...\n",
      "% of top 500 molecules found : 0.6 %\n",
      "==================================================\n",
      "ITERATION 0\n",
      "Train set shape :  (500, 202)\n",
      "Training the model...\n",
      "Get top k molecules...\n",
      "% of top 500 molecules found : 30.2 %\n",
      "==================================================\n",
      "ITERATION 1\n",
      "Train set shape :  (1000, 202)\n",
      "Training the model...\n",
      "Get top k molecules...\n",
      "% of top 500 molecules found : 47.0 %\n",
      "==================================================\n",
      "ITERATION 2\n",
      "Train set shape :  (1500, 202)\n",
      "Training the model...\n",
      "Get top k molecules...\n",
      "% of top 500 molecules found : 55.400000000000006 %\n",
      "==================================================\n",
      "ITERATION 3\n",
      "Train set shape :  (2000, 202)\n",
      "Training the model...\n",
      "Get top k molecules...\n",
      "% of top 500 molecules found : 62.4 %\n",
      "==================================================\n",
      "ITERATION 4\n",
      "Train set shape :  (2500, 202)\n",
      "Training the model...\n",
      "Get top k molecules...\n",
      "% of top 500 molecules found : 66.2 %\n",
      "==================================================\n",
      "ITERATION 5\n",
      "Train set shape :  (3000, 202)\n",
      "Training the model...\n",
      "Get top k molecules...\n",
      "% of top 500 molecules found : 70.0 %\n",
      "==================================================\n",
      "Initialize training set...\n",
      "% of top 500 molecules found : 0.4 %\n",
      "==================================================\n",
      "ITERATION 0\n",
      "Train set shape :  (500, 202)\n",
      "Training the model...\n",
      "Get top k molecules...\n",
      "% of top 500 molecules found : 28.4 %\n",
      "==================================================\n",
      "ITERATION 1\n",
      "Train set shape :  (1000, 202)\n",
      "Training the model...\n",
      "Get top k molecules...\n",
      "% of top 500 molecules found : 47.0 %\n",
      "==================================================\n",
      "ITERATION 2\n",
      "Train set shape :  (1500, 202)\n",
      "Training the model...\n",
      "Get top k molecules...\n",
      "% of top 500 molecules found : 56.00000000000001 %\n",
      "==================================================\n",
      "ITERATION 3\n",
      "Train set shape :  (2000, 202)\n",
      "Training the model...\n"
     ]
    },
    {
     "name": "stdout",
     "output_type": "stream",
     "text": [
      "Get top k molecules...\n",
      "% of top 500 molecules found : 63.0 %\n",
      "==================================================\n",
      "ITERATION 4\n",
      "Train set shape :  (2500, 202)\n",
      "Training the model...\n",
      "Get top k molecules...\n",
      "% of top 500 molecules found : 67.60000000000001 %\n",
      "==================================================\n",
      "ITERATION 5\n",
      "Train set shape :  (3000, 202)\n",
      "Training the model...\n",
      "Get top k molecules...\n",
      "% of top 500 molecules found : 70.39999999999999 %\n",
      "==================================================\n",
      "Initialize training set...\n",
      "% of top 500 molecules found : 1.7999999999999998 %\n",
      "==================================================\n",
      "ITERATION 0\n",
      "Train set shape :  (500, 202)\n",
      "Training the model...\n",
      "Get top k molecules...\n",
      "% of top 500 molecules found : 33.0 %\n",
      "==================================================\n",
      "ITERATION 1\n",
      "Train set shape :  (1000, 202)\n",
      "Training the model...\n",
      "Get top k molecules...\n",
      "% of top 500 molecules found : 48.4 %\n",
      "==================================================\n",
      "ITERATION 2\n",
      "Train set shape :  (1500, 202)\n",
      "Training the model...\n",
      "Get top k molecules...\n",
      "% of top 500 molecules found : 57.599999999999994 %\n",
      "==================================================\n",
      "ITERATION 3\n",
      "Train set shape :  (2000, 202)\n",
      "Training the model...\n",
      "Get top k molecules...\n",
      "% of top 500 molecules found : 62.8 %\n",
      "==================================================\n",
      "ITERATION 4\n",
      "Train set shape :  (2500, 202)\n",
      "Training the model...\n",
      "Get top k molecules...\n",
      "% of top 500 molecules found : 66.0 %\n",
      "==================================================\n",
      "ITERATION 5\n",
      "Train set shape :  (3000, 202)\n",
      "Training the model...\n",
      "Get top k molecules...\n",
      "% of top 500 molecules found : 69.0 %\n",
      "==================================================\n",
      "Initialize training set...\n",
      "% of top 500 molecules found : 1.4000000000000001 %\n",
      "==================================================\n",
      "ITERATION 0\n",
      "Train set shape :  (500, 202)\n",
      "Training the model...\n",
      "Get top k molecules...\n",
      "% of top 500 molecules found : 27.400000000000002 %\n",
      "==================================================\n",
      "ITERATION 1\n",
      "Train set shape :  (1000, 202)\n",
      "Training the model...\n",
      "Get top k molecules...\n",
      "% of top 500 molecules found : 44.0 %\n",
      "==================================================\n",
      "ITERATION 2\n",
      "Train set shape :  (1500, 202)\n",
      "Training the model...\n",
      "Get top k molecules...\n",
      "% of top 500 molecules found : 52.400000000000006 %\n",
      "==================================================\n",
      "ITERATION 3\n",
      "Train set shape :  (2000, 202)\n",
      "Training the model...\n",
      "Get top k molecules...\n",
      "% of top 500 molecules found : 60.4 %\n",
      "==================================================\n",
      "ITERATION 4\n",
      "Train set shape :  (2500, 202)\n",
      "Training the model...\n",
      "Get top k molecules...\n",
      "% of top 500 molecules found : 66.0 %\n",
      "==================================================\n",
      "ITERATION 5\n",
      "Train set shape :  (3000, 202)\n",
      "Training the model...\n",
      "Get top k molecules...\n",
      "% of top 500 molecules found : 71.2 %\n",
      "==================================================\n",
      "Initialize training set...\n",
      "% of top 500 molecules found : 1.6 %\n",
      "==================================================\n",
      "ITERATION 0\n",
      "Train set shape :  (500, 202)\n",
      "Training the model...\n",
      "Get top k molecules...\n",
      "% of top 500 molecules found : 33.6 %\n",
      "==================================================\n",
      "ITERATION 1\n",
      "Train set shape :  (1000, 202)\n",
      "Training the model...\n",
      "Get top k molecules...\n",
      "% of top 500 molecules found : 49.8 %\n",
      "==================================================\n",
      "ITERATION 2\n",
      "Train set shape :  (1500, 202)\n",
      "Training the model...\n",
      "Get top k molecules...\n",
      "% of top 500 molecules found : 58.4 %\n",
      "==================================================\n",
      "ITERATION 3\n",
      "Train set shape :  (2000, 202)\n",
      "Training the model...\n",
      "Get top k molecules...\n",
      "% of top 500 molecules found : 63.800000000000004 %\n",
      "==================================================\n",
      "ITERATION 4\n",
      "Train set shape :  (2500, 202)\n",
      "Training the model...\n",
      "Get top k molecules...\n",
      "% of top 500 molecules found : 67.0 %\n",
      "==================================================\n",
      "ITERATION 5\n",
      "Train set shape :  (3000, 202)\n",
      "Training the model...\n",
      "Get top k molecules...\n",
      "% of top 500 molecules found : 71.39999999999999 %\n",
      "==================================================\n",
      "Model used  : NN\n",
      "Acquisition function used  : UBC\n",
      "Batch Size  : 500\n",
      "Initialize training set...\n",
      "% of top 500 molecules found : 2.0 %\n",
      "==================================================\n",
      "Variance not yet implemented for NN\n",
      "Initialize training set...\n",
      "% of top 500 molecules found : 1.0 %\n",
      "==================================================\n",
      "Variance not yet implemented for NN\n",
      "Initialize training set...\n",
      "% of top 500 molecules found : 1.4000000000000001 %\n",
      "==================================================\n",
      "Variance not yet implemented for NN\n",
      "Initialize training set...\n",
      "% of top 500 molecules found : 0.6 %\n",
      "==================================================\n",
      "Variance not yet implemented for NN\n",
      "Initialize training set...\n",
      "% of top 500 molecules found : 1.6 %\n",
      "==================================================\n",
      "Variance not yet implemented for NN\n"
     ]
    }
   ],
   "source": [
    "verbose = True\n",
    "\n",
    "for i, model in enumerate(models):\n",
    "    for j, acquisition_function in enumerate(acquisition_functions):\n",
    "        \n",
    "        print('Model used  :', model.name)\n",
    "        print('Acquisition function used  :', acquisition_function.name)\n",
    "        print('Batch Size  :', BATCH_SIZE)\n",
    "        \n",
    "        for experiment in range(NB_EXPERIMENTS):\n",
    "            \n",
    "            ratio_found = []\n",
    "            \n",
    "            print('Initialize training set...')\n",
    "            train_set, test_set = molecule_pool.initialize_batch(batch_size=BATCH_SIZE)\n",
    "            \n",
    "            # Get the name of top k molecule according to the docking score\n",
    "            idx_best = molecule_pool.sort_idx_by_true_score()[:k]\n",
    "            top_k_mol = set(molecule_pool.df[idx_best, 0])\n",
    "            top_k_found = train_set.get_top_k(k, top_k_mol)\n",
    "            \n",
    "            if verbose:\n",
    "                print(\"% of top {} molecules found :\".format(k), (len(top_k_found)/k)*100, '%')\n",
    "                print('='*50)\n",
    "\n",
    "            if model.name == 'NN' and acquisition_function.name == 'UBC':\n",
    "                print('Variance not yet implemented for NN')\n",
    "                continue\n",
    "\n",
    "            iteration = 0\n",
    "\n",
    "            \n",
    "            result = {'experiment':'Experiment_{}'.format(experiment),\n",
    "                     'model': model.name,\n",
    "                     'batch_size': BATCH_SIZE,\n",
    "                     'acquisition_function' : acquisition_function.name,\n",
    "                     'ratio_iteration_0':(len(top_k_found)/k)*100}\n",
    "            \n",
    "\n",
    "            while iteration < MAX_ITERATIONS:\n",
    "                if verbose:\n",
    "                    print('ITERATION', iteration)\n",
    "                    print('Train set shape : ', train_set.data.shape)\n",
    "                    print('Training the model...')\n",
    "                    \n",
    "                model.train(train_set)\n",
    "\n",
    "                score = model.predict(test_set, acquisition_function.require_var)\n",
    "\n",
    "                most_promising_mol = acquisition_function.select_train_set(test_set)\n",
    "\n",
    "                new_train_mol = np.concatenate((train_set.df[:, 0], most_promising_mol.df[:, 0]))\n",
    "\n",
    "                train_set, test_set = molecule_pool.create_batch(new_train_mol)\n",
    "\n",
    "                iteration += 1\n",
    "\n",
    "\n",
    "                top_k_found = train_set.get_top_k(k, top_k_mol)\n",
    "\n",
    "                if verbose:\n",
    "                    print('Get top k molecules...')\n",
    "                    print(\"% of top {} molecules found :\".format(k), (len(top_k_found)/k)*100, '%')\n",
    "                    print('='*50)\n",
    "                \n",
    "                \n",
    "                key = 'ratio_iteration_'+str(iteration)\n",
    "                result[key] =  (len(top_k_found)/k)*100\n",
    "                \n",
    "            \n",
    "            # add the results of the experiment\n",
    "            df_results = df_results.append(result, ignore_index=True)\n",
    "            \n",
    "df_results.to_csv('../data/result.csv', index=False)"
   ]
  },
  {
   "cell_type": "markdown",
   "metadata": {},
   "source": [
    "## Q3b Analysis of the results on different model choices"
   ]
  },
  {
   "cell_type": "code",
   "execution_count": 242,
   "metadata": {},
   "outputs": [
    {
     "data": {
      "text/html": [
       "<div>\n",
       "<style scoped>\n",
       "    .dataframe tbody tr th:only-of-type {\n",
       "        vertical-align: middle;\n",
       "    }\n",
       "\n",
       "    .dataframe tbody tr th {\n",
       "        vertical-align: top;\n",
       "    }\n",
       "\n",
       "    .dataframe thead th {\n",
       "        text-align: right;\n",
       "    }\n",
       "</style>\n",
       "<table border=\"1\" class=\"dataframe\">\n",
       "  <thead>\n",
       "    <tr style=\"text-align: right;\">\n",
       "      <th></th>\n",
       "      <th></th>\n",
       "      <th>500</th>\n",
       "      <th>1000</th>\n",
       "      <th>1500</th>\n",
       "      <th>2000</th>\n",
       "      <th>2500</th>\n",
       "      <th>3000</th>\n",
       "      <th>3500</th>\n",
       "    </tr>\n",
       "    <tr>\n",
       "      <th>model</th>\n",
       "      <th>acquisition_function</th>\n",
       "      <th></th>\n",
       "      <th></th>\n",
       "      <th></th>\n",
       "      <th></th>\n",
       "      <th></th>\n",
       "      <th></th>\n",
       "      <th></th>\n",
       "    </tr>\n",
       "  </thead>\n",
       "  <tbody>\n",
       "    <tr>\n",
       "      <th rowspan=\"2\" valign=\"top\">NN</th>\n",
       "      <th>Greedy</th>\n",
       "      <td>1.16</td>\n",
       "      <td>30.52</td>\n",
       "      <td>47.24</td>\n",
       "      <td>55.96</td>\n",
       "      <td>62.48</td>\n",
       "      <td>66.56</td>\n",
       "      <td>70.40</td>\n",
       "    </tr>\n",
       "    <tr>\n",
       "      <th>RandomSearch</th>\n",
       "      <td>1.00</td>\n",
       "      <td>1.72</td>\n",
       "      <td>3.00</td>\n",
       "      <td>3.68</td>\n",
       "      <td>4.76</td>\n",
       "      <td>5.76</td>\n",
       "      <td>7.12</td>\n",
       "    </tr>\n",
       "    <tr>\n",
       "      <th rowspan=\"3\" valign=\"top\">RandomForestRegressor</th>\n",
       "      <th>Greedy</th>\n",
       "      <td>1.12</td>\n",
       "      <td>24.40</td>\n",
       "      <td>37.60</td>\n",
       "      <td>48.00</td>\n",
       "      <td>55.60</td>\n",
       "      <td>63.52</td>\n",
       "      <td>69.96</td>\n",
       "    </tr>\n",
       "    <tr>\n",
       "      <th>RandomSearch</th>\n",
       "      <td>0.96</td>\n",
       "      <td>1.72</td>\n",
       "      <td>2.80</td>\n",
       "      <td>4.00</td>\n",
       "      <td>5.24</td>\n",
       "      <td>6.08</td>\n",
       "      <td>7.16</td>\n",
       "    </tr>\n",
       "    <tr>\n",
       "      <th>UBC</th>\n",
       "      <td>0.56</td>\n",
       "      <td>20.92</td>\n",
       "      <td>36.52</td>\n",
       "      <td>46.68</td>\n",
       "      <td>53.24</td>\n",
       "      <td>59.32</td>\n",
       "      <td>63.64</td>\n",
       "    </tr>\n",
       "  </tbody>\n",
       "</table>\n",
       "</div>"
      ],
      "text/plain": [
       "                                            500    1000   1500   2000   2500  \\\n",
       "model                 acquisition_function                                     \n",
       "NN                    Greedy                1.16  30.52  47.24  55.96  62.48   \n",
       "                      RandomSearch          1.00   1.72   3.00   3.68   4.76   \n",
       "RandomForestRegressor Greedy                1.12  24.40  37.60  48.00  55.60   \n",
       "                      RandomSearch          0.96   1.72   2.80   4.00   5.24   \n",
       "                      UBC                   0.56  20.92  36.52  46.68  53.24   \n",
       "\n",
       "                                             3000   3500  \n",
       "model                 acquisition_function                \n",
       "NN                    Greedy                66.56  70.40  \n",
       "                      RandomSearch           5.76   7.12  \n",
       "RandomForestRegressor Greedy                63.52  69.96  \n",
       "                      RandomSearch           6.08   7.16  \n",
       "                      UBC                   59.32  63.64  "
      ]
     },
     "execution_count": 242,
     "metadata": {},
     "output_type": "execute_result"
    }
   ],
   "source": [
    "sns.set_theme()\n",
    "\n",
    "result_per_model = df_results.groupby([\"model\",\"acquisition_function\"]).mean()\n",
    "result_per_model.columns = [500, 1000, 1500, 2000, 2500, 3000, 3500]\n",
    "result_per_model"
   ]
  },
  {
   "cell_type": "code",
   "execution_count": 186,
   "metadata": {},
   "outputs": [],
   "source": [
    "result_nn = result_per_model.loc['NN'].reset_index().T\n",
    "result_nn.columns = result_nn.iloc[0]\n",
    "result_nn = result_nn.drop(result_nn.index[0])\n",
    "result_nn.index = nb_ligands_explored\n",
    "result_nn = result_nn.astype({\"Greedy\": float, \"RandomSearch\": float})\n",
    "\n",
    "result_rf = result_per_model.loc['RandomForestRegressor'].reset_index().T\n",
    "result_rf.columns = result_rf.iloc[0]\n",
    "result_rf = result_rf.drop(result_rf.index[0])\n",
    "result_rf.index = nb_ligands_explored\n",
    "result_rf = result_rf.astype({\"Greedy\": float, \"RandomSearch\": float, \"UBC\":float})\n",
    "\n",
    "all_result = [result_rf, result_nn]"
   ]
  },
  {
   "cell_type": "code",
   "execution_count": 257,
   "metadata": {},
   "outputs": [
    {
     "data": {
      "image/png": "[encoded data removed]",
      "text/plain": [
       "<Figure size 720x360 with 2 Axes>"
      ]
     },
     "metadata": {},
     "output_type": "display_data"
    }
   ],
   "source": [
    "fig, axs = plt.subplots(ncols=2, figsize=(10, 5))\n",
    "\n",
    "for i, ax in enumerate(axs):\n",
    "    sns.lineplot(data=all_result[i], markers=True, dashes=False, linewidth=2, ax=ax)\n",
    "    ax.set_xlabel('Nb ligands explored')\n",
    "    ax.set_ylabel('% of top-500 molecules found')\n",
    "    ax.set_title(df_results.model.unique()[i])"
   ]
  },
  {
   "cell_type": "code",
   "execution_count": 258,
   "metadata": {},
   "outputs": [
    {
     "data": {
      "image/png": "[encoded data removed]",
      "text/plain": [
       "<Figure size 360x360 with 1 Axes>"
      ]
     },
     "metadata": {},
     "output_type": "display_data"
    }
   ],
   "source": [
    "plt.figure(figsize=(5, 5))\n",
    "\n",
    "ax = sns.lineplot(data=result_per_model.T.iloc[:, result_per_model.T.columns.get_level_values(1)=='Greedy'], \n",
    "                  markers=True, \n",
    "                  dashes=False, \n",
    "                  linewidth=2)\n",
    "\n",
    "plot = ax.set_xlabel('Nb ligands explored')\n",
    "plot = ax.set_ylabel('% of top-500 molecules found')\n",
    "plot = ax.set_title('Convergence results with Greedy acquisition')"
   ]
  },
  {
   "cell_type": "code",
   "execution_count": 215,
   "metadata": {},
   "outputs": [
    {
     "name": "stdout",
     "output_type": "stream",
     "text": [
      "NN with acquisition function Greedy has an enrichment factor of 9.89\n",
      "RandomForestRegressor with acquisition function Greedy has an enrichment factor of 9.83\n",
      "RandomForestRegressor with acquisition function UBC has an enrichment factor of 8.94\n"
     ]
    }
   ],
   "source": [
    "# Save % molecule found by the RandomSearch as the baseline\n",
    "baseline = result_per_model.iloc[1][-1]\n",
    "\n",
    "for idx in result_per_model.index:\n",
    "    if idx[1] != 'RandomSearch':\n",
    "        ef = result_per_model.loc[idx][-1] / baseline\n",
    "        print(idx[0],'with acquisition function',idx[1],'has an enrichment factor of', round(ef, 2))"
   ]
  }
 ],
 "metadata": {
  "kernelspec": {
   "display_name": "Python 3",
   "language": "python",
   "name": "python3"
  },
  "language_info": {
   "codemirror_mode": {
    "name": "ipython",
    "version": 3
   },
   "file_extension": ".py",
   "mimetype": "text/x-python",
   "name": "python",
   "nbconvert_exporter": "python",
   "pygments_lexer": "ipython3",
   "version": "3.8.3"
  }
 },
 "nbformat": 4,
 "nbformat_minor": 4
}
