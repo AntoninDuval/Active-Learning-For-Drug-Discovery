{
 "cells": [
  {
   "cell_type": "code",
   "execution_count": 1,
   "metadata": {},
   "outputs": [],
   "source": [
    "import pandas as pd\n",
    "\n",
    "from acquirer.acquirer import *\n",
    "from acquirer.acquirer import *\n",
    "from model.model import *\n",
    "from molecule_pool.molecule_pool import MoleculePool\n",
    "\n",
    "import seaborn as sns\n",
    "import matplotlib.pyplot as plt\n",
    "\n",
    "\n",
    "BATCH_SIZE = 500\n",
    "MAX_ITERATIONS = 6\n",
    "NB_EXPERIMENTS = 5\n",
    "k = 500\n",
    "PATH = '../data/Enamine50k_rdkit2d.csv'"
   ]
  },
  {
   "cell_type": "markdown",
   "metadata": {},
   "source": [
    "## Q1 & Q2 Implement the first brick, run it and output results"
   ]
  },
  {
   "cell_type": "code",
   "execution_count": 2,
   "metadata": {},
   "outputs": [],
   "source": [
    "\n",
    "df = pd.read_csv(PATH).to_numpy()\n",
    "df = df[:, 1:]\n",
    "\n",
    "molecule_pool = MoleculePool(df)\n",
    "\n",
    "\n",
    "models = [RandomForest({'n_estimators': 100,\n",
    "                      'max_depth': 8,\n",
    "                      }), \n",
    "          NN({'input_shape': 200, 'hidden_shape': 100, 'output_shape': 1}, epoch=100)]\n",
    "\n",
    "acquisition_functions = [RandomSearch(batch_size=BATCH_SIZE),\n",
    "                         Greedy(batch_size=BATCH_SIZE),\n",
    "                        UBC(batch_size=BATCH_SIZE)]\n",
    "\n",
    "df_results = pd.DataFrame(columns=[\"experiment\",\n",
    "                                \"model\",\n",
    "                                \"batch_size\",\n",
    "                                \"acquisition_function\"])"
   ]
  },
  {
   "cell_type": "code",
   "execution_count": 3,
   "metadata": {},
   "outputs": [
    {
     "name": "stdout",
     "output_type": "stream",
     "text": [
      "Model used  : RandomForestRegressor\n",
      "Acquisition function used  : RandomSearch\n",
      "Batch Size  : 500\n",
      "EXPERIMENT N° 0\n",
      "Initialize training set...\n",
      "% of top 500 molecules found : 0.6 %\n",
      "==================================================\n",
      "ITERATION 0\n",
      "Train set shape :  (500, 202)\n",
      "Training the model...\n",
      "Get top k molecules...\n",
      "% of top 500 molecules found : 1.7999999999999998 %\n",
      "==================================================\n",
      "ITERATION 1\n",
      "Train set shape :  (1000, 202)\n",
      "Training the model...\n",
      "Get top k molecules...\n",
      "% of top 500 molecules found : 2.6 %\n",
      "==================================================\n",
      "ITERATION 2\n",
      "Train set shape :  (1500, 202)\n",
      "Training the model...\n",
      "Get top k molecules...\n",
      "% of top 500 molecules found : 4.0 %\n",
      "==================================================\n",
      "ITERATION 3\n",
      "Train set shape :  (2000, 202)\n",
      "Training the model...\n",
      "Get top k molecules...\n",
      "% of top 500 molecules found : 5.4 %\n",
      "==================================================\n",
      "ITERATION 4\n",
      "Train set shape :  (2500, 202)\n",
      "Training the model...\n",
      "Get top k molecules...\n",
      "% of top 500 molecules found : 5.800000000000001 %\n",
      "==================================================\n",
      "ITERATION 5\n",
      "Train set shape :  (3000, 202)\n",
      "Training the model...\n",
      "Get top k molecules...\n",
      "% of top 500 molecules found : 6.6000000000000005 %\n",
      "==================================================\n",
      "EXPERIMENT N° 1\n",
      "Initialize training set...\n",
      "% of top 500 molecules found : 0.6 %\n",
      "==================================================\n",
      "ITERATION 0\n",
      "Train set shape :  (500, 202)\n",
      "Training the model...\n",
      "Get top k molecules...\n",
      "% of top 500 molecules found : 1.6 %\n",
      "==================================================\n",
      "ITERATION 1\n",
      "Train set shape :  (1000, 202)\n",
      "Training the model...\n",
      "Get top k molecules...\n",
      "% of top 500 molecules found : 2.4 %\n",
      "==================================================\n",
      "ITERATION 2\n",
      "Train set shape :  (1500, 202)\n",
      "Training the model...\n",
      "Get top k molecules...\n",
      "% of top 500 molecules found : 3.8 %\n",
      "==================================================\n",
      "ITERATION 3\n",
      "Train set shape :  (2000, 202)\n",
      "Training the model...\n",
      "Get top k molecules...\n",
      "% of top 500 molecules found : 4.8 %\n",
      "==================================================\n",
      "ITERATION 4\n",
      "Train set shape :  (2500, 202)\n",
      "Training the model...\n",
      "Get top k molecules...\n",
      "% of top 500 molecules found : 5.800000000000001 %\n",
      "==================================================\n",
      "ITERATION 5\n",
      "Train set shape :  (3000, 202)\n",
      "Training the model...\n",
      "Get top k molecules...\n",
      "% of top 500 molecules found : 7.000000000000001 %\n",
      "==================================================\n",
      "EXPERIMENT N° 2\n",
      "Initialize training set...\n",
      "% of top 500 molecules found : 0.6 %\n",
      "==================================================\n",
      "ITERATION 0\n",
      "Train set shape :  (500, 202)\n",
      "Training the model...\n",
      "Get top k molecules...\n",
      "% of top 500 molecules found : 1.0 %\n",
      "==================================================\n",
      "ITERATION 1\n",
      "Train set shape :  (1000, 202)\n",
      "Training the model...\n",
      "Get top k molecules...\n",
      "% of top 500 molecules found : 1.6 %\n",
      "==================================================\n",
      "ITERATION 2\n",
      "Train set shape :  (1500, 202)\n",
      "Training the model...\n",
      "Get top k molecules...\n",
      "% of top 500 molecules found : 2.4 %\n",
      "==================================================\n",
      "ITERATION 3\n",
      "Train set shape :  (2000, 202)\n",
      "Training the model...\n",
      "Get top k molecules...\n",
      "% of top 500 molecules found : 3.2 %\n",
      "==================================================\n",
      "ITERATION 4\n",
      "Train set shape :  (2500, 202)\n",
      "Training the model...\n",
      "Get top k molecules...\n",
      "% of top 500 molecules found : 4.6 %\n",
      "==================================================\n",
      "ITERATION 5\n",
      "Train set shape :  (3000, 202)\n",
      "Training the model...\n",
      "Get top k molecules...\n",
      "% of top 500 molecules found : 5.4 %\n",
      "==================================================\n",
      "EXPERIMENT N° 3\n",
      "Initialize training set...\n",
      "% of top 500 molecules found : 1.6 %\n",
      "==================================================\n",
      "ITERATION 0\n",
      "Train set shape :  (500, 202)\n",
      "Training the model...\n",
      "Get top k molecules...\n",
      "% of top 500 molecules found : 1.7999999999999998 %\n",
      "==================================================\n",
      "ITERATION 1\n",
      "Train set shape :  (1000, 202)\n",
      "Training the model...\n",
      "Get top k molecules...\n",
      "% of top 500 molecules found : 3.4000000000000004 %\n",
      "==================================================\n",
      "ITERATION 2\n",
      "Train set shape :  (1500, 202)\n",
      "Training the model...\n",
      "Get top k molecules...\n",
      "% of top 500 molecules found : 3.8 %\n",
      "==================================================\n",
      "ITERATION 3\n",
      "Train set shape :  (2000, 202)\n",
      "Training the model...\n",
      "Get top k molecules...\n",
      "% of top 500 molecules found : 5.6000000000000005 %\n",
      "==================================================\n",
      "ITERATION 4\n",
      "Train set shape :  (2500, 202)\n",
      "Training the model...\n",
      "Get top k molecules...\n",
      "% of top 500 molecules found : 5.800000000000001 %\n",
      "==================================================\n",
      "ITERATION 5\n",
      "Train set shape :  (3000, 202)\n",
      "Training the model...\n",
      "Get top k molecules...\n",
      "% of top 500 molecules found : 7.3999999999999995 %\n",
      "==================================================\n",
      "EXPERIMENT N° 4\n",
      "Initialize training set...\n",
      "% of top 500 molecules found : 0.2 %\n",
      "==================================================\n",
      "ITERATION 0\n",
      "Train set shape :  (500, 202)\n",
      "Training the model...\n",
      "Get top k molecules...\n",
      "% of top 500 molecules found : 1.4000000000000001 %\n",
      "==================================================\n",
      "ITERATION 1\n",
      "Train set shape :  (1000, 202)\n",
      "Training the model...\n",
      "Get top k molecules...\n",
      "% of top 500 molecules found : 2.1999999999999997 %\n",
      "==================================================\n",
      "ITERATION 2\n",
      "Train set shape :  (1500, 202)\n",
      "Training the model...\n",
      "Get top k molecules...\n",
      "% of top 500 molecules found : 3.0 %\n",
      "==================================================\n",
      "ITERATION 3\n",
      "Train set shape :  (2000, 202)\n",
      "Training the model...\n",
      "Get top k molecules...\n",
      "% of top 500 molecules found : 4.8 %\n",
      "==================================================\n",
      "ITERATION 4\n",
      "Train set shape :  (2500, 202)\n",
      "Training the model...\n",
      "Get top k molecules...\n",
      "% of top 500 molecules found : 5.6000000000000005 %\n",
      "==================================================\n",
      "ITERATION 5\n",
      "Train set shape :  (3000, 202)\n",
      "Training the model...\n",
      "Get top k molecules...\n",
      "% of top 500 molecules found : 7.000000000000001 %\n",
      "==================================================\n",
      "Model used  : RandomForestRegressor\n",
      "Acquisition function used  : Greedy\n",
      "Batch Size  : 500\n",
      "EXPERIMENT N° 0\n",
      "Initialize training set...\n",
      "% of top 500 molecules found : 1.4000000000000001 %\n",
      "==================================================\n",
      "ITERATION 0\n",
      "Train set shape :  (500, 202)\n",
      "Training the model...\n",
      "Get top k molecules...\n",
      "% of top 500 molecules found : 24.8 %\n",
      "==================================================\n",
      "ITERATION 1\n",
      "Train set shape :  (1000, 202)\n",
      "Training the model...\n",
      "Get top k molecules...\n",
      "% of top 500 molecules found : 38.6 %\n",
      "==================================================\n",
      "ITERATION 2\n",
      "Train set shape :  (1500, 202)\n",
      "Training the model...\n",
      "Get top k molecules...\n",
      "% of top 500 molecules found : 52.2 %\n",
      "==================================================\n",
      "ITERATION 3\n",
      "Train set shape :  (2000, 202)\n",
      "Training the model...\n",
      "Get top k molecules...\n",
      "% of top 500 molecules found : 58.199999999999996 %\n",
      "==================================================\n",
      "ITERATION 4\n",
      "Train set shape :  (2500, 202)\n",
      "Training the model...\n",
      "Get top k molecules...\n",
      "% of top 500 molecules found : 65.0 %\n",
      "==================================================\n",
      "ITERATION 5\n",
      "Train set shape :  (3000, 202)\n",
      "Training the model...\n",
      "Get top k molecules...\n",
      "% of top 500 molecules found : 69.0 %\n",
      "==================================================\n",
      "EXPERIMENT N° 1\n",
      "Initialize training set...\n",
      "% of top 500 molecules found : 1.2 %\n",
      "==================================================\n",
      "ITERATION 0\n",
      "Train set shape :  (500, 202)\n",
      "Training the model...\n",
      "Get top k molecules...\n",
      "% of top 500 molecules found : 23.0 %\n",
      "==================================================\n",
      "ITERATION 1\n",
      "Train set shape :  (1000, 202)\n",
      "Training the model...\n",
      "Get top k molecules...\n",
      "% of top 500 molecules found : 38.4 %\n",
      "==================================================\n",
      "ITERATION 2\n",
      "Train set shape :  (1500, 202)\n",
      "Training the model...\n",
      "Get top k molecules...\n",
      "% of top 500 molecules found : 49.8 %\n",
      "==================================================\n",
      "ITERATION 3\n",
      "Train set shape :  (2000, 202)\n",
      "Training the model...\n"
     ]
    },
    {
     "name": "stdout",
     "output_type": "stream",
     "text": [
      "Get top k molecules...\n",
      "% of top 500 molecules found : 59.8 %\n",
      "==================================================\n",
      "ITERATION 4\n",
      "Train set shape :  (2500, 202)\n",
      "Training the model...\n",
      "Get top k molecules...\n",
      "% of top 500 molecules found : 66.60000000000001 %\n",
      "==================================================\n",
      "ITERATION 5\n",
      "Train set shape :  (3000, 202)\n",
      "Training the model...\n",
      "Get top k molecules...\n",
      "% of top 500 molecules found : 71.8 %\n",
      "==================================================\n",
      "EXPERIMENT N° 2\n",
      "Initialize training set...\n",
      "% of top 500 molecules found : 1.0 %\n",
      "==================================================\n",
      "ITERATION 0\n",
      "Train set shape :  (500, 202)\n",
      "Training the model...\n",
      "Get top k molecules...\n",
      "% of top 500 molecules found : 26.0 %\n",
      "==================================================\n",
      "ITERATION 1\n",
      "Train set shape :  (1000, 202)\n",
      "Training the model...\n",
      "Get top k molecules...\n",
      "% of top 500 molecules found : 36.199999999999996 %\n",
      "==================================================\n",
      "ITERATION 2\n",
      "Train set shape :  (1500, 202)\n",
      "Training the model...\n",
      "Get top k molecules...\n",
      "% of top 500 molecules found : 48.199999999999996 %\n",
      "==================================================\n",
      "ITERATION 3\n",
      "Train set shape :  (2000, 202)\n",
      "Training the model...\n",
      "Get top k molecules...\n",
      "% of top 500 molecules found : 55.400000000000006 %\n",
      "==================================================\n",
      "ITERATION 4\n",
      "Train set shape :  (2500, 202)\n",
      "Training the model...\n",
      "Get top k molecules...\n",
      "% of top 500 molecules found : 65.0 %\n",
      "==================================================\n",
      "ITERATION 5\n",
      "Train set shape :  (3000, 202)\n",
      "Training the model...\n",
      "Get top k molecules...\n",
      "% of top 500 molecules found : 70.0 %\n",
      "==================================================\n",
      "EXPERIMENT N° 3\n",
      "Initialize training set...\n",
      "% of top 500 molecules found : 1.6 %\n",
      "==================================================\n",
      "ITERATION 0\n",
      "Train set shape :  (500, 202)\n",
      "Training the model...\n",
      "Get top k molecules...\n",
      "% of top 500 molecules found : 27.6 %\n",
      "==================================================\n",
      "ITERATION 1\n",
      "Train set shape :  (1000, 202)\n",
      "Training the model...\n",
      "Get top k molecules...\n",
      "% of top 500 molecules found : 39.800000000000004 %\n",
      "==================================================\n",
      "ITERATION 2\n",
      "Train set shape :  (1500, 202)\n",
      "Training the model...\n",
      "Get top k molecules...\n",
      "% of top 500 molecules found : 50.4 %\n",
      "==================================================\n",
      "ITERATION 3\n",
      "Train set shape :  (2000, 202)\n",
      "Training the model...\n",
      "Get top k molecules...\n",
      "% of top 500 molecules found : 61.199999999999996 %\n",
      "==================================================\n",
      "ITERATION 4\n",
      "Train set shape :  (2500, 202)\n",
      "Training the model...\n",
      "Get top k molecules...\n",
      "% of top 500 molecules found : 67.80000000000001 %\n",
      "==================================================\n",
      "ITERATION 5\n",
      "Train set shape :  (3000, 202)\n",
      "Training the model...\n",
      "Get top k molecules...\n",
      "% of top 500 molecules found : 72.2 %\n",
      "==================================================\n",
      "EXPERIMENT N° 4\n",
      "Initialize training set...\n",
      "% of top 500 molecules found : 0.2 %\n",
      "==================================================\n",
      "ITERATION 0\n",
      "Train set shape :  (500, 202)\n",
      "Training the model...\n",
      "Get top k molecules...\n",
      "% of top 500 molecules found : 26.6 %\n",
      "==================================================\n",
      "ITERATION 1\n",
      "Train set shape :  (1000, 202)\n",
      "Training the model...\n",
      "Get top k molecules...\n",
      "% of top 500 molecules found : 40.400000000000006 %\n",
      "==================================================\n",
      "ITERATION 2\n",
      "Train set shape :  (1500, 202)\n",
      "Training the model...\n",
      "Get top k molecules...\n",
      "% of top 500 molecules found : 49.8 %\n",
      "==================================================\n",
      "ITERATION 3\n",
      "Train set shape :  (2000, 202)\n",
      "Training the model...\n",
      "Get top k molecules...\n",
      "% of top 500 molecules found : 58.8 %\n",
      "==================================================\n",
      "ITERATION 4\n",
      "Train set shape :  (2500, 202)\n",
      "Training the model...\n",
      "Get top k molecules...\n",
      "% of top 500 molecules found : 65.2 %\n",
      "==================================================\n",
      "ITERATION 5\n",
      "Train set shape :  (3000, 202)\n",
      "Training the model...\n",
      "Get top k molecules...\n",
      "% of top 500 molecules found : 71.6 %\n",
      "==================================================\n",
      "Model used  : RandomForestRegressor\n",
      "Acquisition function used  : UBC\n",
      "Batch Size  : 500\n",
      "EXPERIMENT N° 0\n",
      "Initialize training set...\n",
      "% of top 500 molecules found : 1.0 %\n",
      "==================================================\n",
      "ITERATION 0\n",
      "Train set shape :  (500, 202)\n",
      "Training the model...\n"
     ]
    },
    {
     "name": "stderr",
     "output_type": "stream",
     "text": [
      "2it [00:00, 15.63it/s]"
     ]
    },
    {
     "name": "stdout",
     "output_type": "stream",
     "text": [
      "Computing the variance...\n"
     ]
    },
    {
     "name": "stderr",
     "output_type": "stream",
     "text": [
      "100it [00:05, 18.19it/s]\n"
     ]
    },
    {
     "name": "stdout",
     "output_type": "stream",
     "text": [
      "Get top k molecules...\n",
      "% of top 500 molecules found : 19.8 %\n",
      "==================================================\n",
      "ITERATION 1\n",
      "Train set shape :  (1000, 202)\n",
      "Training the model...\n"
     ]
    },
    {
     "name": "stderr",
     "output_type": "stream",
     "text": [
      "2it [00:00, 15.16it/s]"
     ]
    },
    {
     "name": "stdout",
     "output_type": "stream",
     "text": [
      "Computing the variance...\n"
     ]
    },
    {
     "name": "stderr",
     "output_type": "stream",
     "text": [
      "100it [00:05, 18.27it/s]\n"
     ]
    },
    {
     "name": "stdout",
     "output_type": "stream",
     "text": [
      "Get top k molecules...\n",
      "% of top 500 molecules found : 34.2 %\n",
      "==================================================\n",
      "ITERATION 2\n",
      "Train set shape :  (1500, 202)\n",
      "Training the model...\n"
     ]
    },
    {
     "name": "stderr",
     "output_type": "stream",
     "text": [
      "2it [00:00, 15.63it/s]"
     ]
    },
    {
     "name": "stdout",
     "output_type": "stream",
     "text": [
      "Computing the variance...\n"
     ]
    },
    {
     "name": "stderr",
     "output_type": "stream",
     "text": [
      "100it [00:05, 18.68it/s]\n"
     ]
    },
    {
     "name": "stdout",
     "output_type": "stream",
     "text": [
      "Get top k molecules...\n",
      "% of top 500 molecules found : 45.2 %\n",
      "==================================================\n",
      "ITERATION 3\n",
      "Train set shape :  (2000, 202)\n",
      "Training the model...\n"
     ]
    },
    {
     "name": "stderr",
     "output_type": "stream",
     "text": [
      "2it [00:00, 14.93it/s]"
     ]
    },
    {
     "name": "stdout",
     "output_type": "stream",
     "text": [
      "Computing the variance...\n"
     ]
    },
    {
     "name": "stderr",
     "output_type": "stream",
     "text": [
      "100it [00:05, 18.41it/s]\n"
     ]
    },
    {
     "name": "stdout",
     "output_type": "stream",
     "text": [
      "Get top k molecules...\n",
      "% of top 500 molecules found : 51.800000000000004 %\n",
      "==================================================\n",
      "ITERATION 4\n",
      "Train set shape :  (2500, 202)\n",
      "Training the model...\n"
     ]
    },
    {
     "name": "stderr",
     "output_type": "stream",
     "text": [
      "2it [00:00, 15.76it/s]"
     ]
    },
    {
     "name": "stdout",
     "output_type": "stream",
     "text": [
      "Computing the variance...\n"
     ]
    },
    {
     "name": "stderr",
     "output_type": "stream",
     "text": [
      "100it [00:05, 19.07it/s]\n"
     ]
    },
    {
     "name": "stdout",
     "output_type": "stream",
     "text": [
      "Get top k molecules...\n",
      "% of top 500 molecules found : 57.199999999999996 %\n",
      "==================================================\n",
      "ITERATION 5\n",
      "Train set shape :  (3000, 202)\n",
      "Training the model...\n"
     ]
    },
    {
     "name": "stderr",
     "output_type": "stream",
     "text": [
      "2it [00:00, 16.14it/s]"
     ]
    },
    {
     "name": "stdout",
     "output_type": "stream",
     "text": [
      "Computing the variance...\n"
     ]
    },
    {
     "name": "stderr",
     "output_type": "stream",
     "text": [
      "100it [00:05, 18.85it/s]\n"
     ]
    },
    {
     "name": "stdout",
     "output_type": "stream",
     "text": [
      "Get top k molecules...\n",
      "% of top 500 molecules found : 63.4 %\n",
      "==================================================\n",
      "EXPERIMENT N° 1\n",
      "Initialize training set...\n",
      "% of top 500 molecules found : 0.8 %\n",
      "==================================================\n",
      "ITERATION 0\n",
      "Train set shape :  (500, 202)\n",
      "Training the model...\n"
     ]
    },
    {
     "name": "stderr",
     "output_type": "stream",
     "text": [
      "2it [00:00, 16.39it/s]"
     ]
    },
    {
     "name": "stdout",
     "output_type": "stream",
     "text": [
      "Computing the variance...\n"
     ]
    },
    {
     "name": "stderr",
     "output_type": "stream",
     "text": [
      "100it [00:05, 18.83it/s]\n"
     ]
    },
    {
     "name": "stdout",
     "output_type": "stream",
     "text": [
      "Get top k molecules...\n",
      "% of top 500 molecules found : 14.799999999999999 %\n",
      "==================================================\n",
      "ITERATION 1\n",
      "Train set shape :  (1000, 202)\n",
      "Training the model...\n"
     ]
    },
    {
     "name": "stderr",
     "output_type": "stream",
     "text": [
      "1it [00:00,  9.32it/s]"
     ]
    },
    {
     "name": "stdout",
     "output_type": "stream",
     "text": [
      "Computing the variance...\n"
     ]
    },
    {
     "name": "stderr",
     "output_type": "stream",
     "text": [
      "100it [00:05, 18.04it/s]\n"
     ]
    },
    {
     "name": "stdout",
     "output_type": "stream",
     "text": [
      "Get top k molecules...\n",
      "% of top 500 molecules found : 29.2 %\n",
      "==================================================\n",
      "ITERATION 2\n",
      "Train set shape :  (1500, 202)\n",
      "Training the model...\n"
     ]
    },
    {
     "name": "stderr",
     "output_type": "stream",
     "text": [
      "2it [00:00, 16.01it/s]"
     ]
    },
    {
     "name": "stdout",
     "output_type": "stream",
     "text": [
      "Computing the variance...\n"
     ]
    },
    {
     "name": "stderr",
     "output_type": "stream",
     "text": [
      "100it [00:05, 18.47it/s]\n"
     ]
    },
    {
     "name": "stdout",
     "output_type": "stream",
     "text": [
      "Get top k molecules...\n",
      "% of top 500 molecules found : 40.8 %\n",
      "==================================================\n",
      "ITERATION 3\n",
      "Train set shape :  (2000, 202)\n",
      "Training the model...\n"
     ]
    },
    {
     "name": "stderr",
     "output_type": "stream",
     "text": [
      "2it [00:00, 16.01it/s]"
     ]
    },
    {
     "name": "stdout",
     "output_type": "stream",
     "text": [
      "Computing the variance...\n"
     ]
    },
    {
     "name": "stderr",
     "output_type": "stream",
     "text": [
      "100it [00:05, 18.98it/s]\n"
     ]
    },
    {
     "name": "stdout",
     "output_type": "stream",
     "text": [
      "Get top k molecules...\n",
      "% of top 500 molecules found : 50.0 %\n",
      "==================================================\n",
      "ITERATION 4\n",
      "Train set shape :  (2500, 202)\n",
      "Training the model...\n"
     ]
    },
    {
     "name": "stderr",
     "output_type": "stream",
     "text": [
      "2it [00:00, 16.64it/s]"
     ]
    },
    {
     "name": "stdout",
     "output_type": "stream",
     "text": [
      "Computing the variance...\n"
     ]
    },
    {
     "name": "stderr",
     "output_type": "stream",
     "text": [
      "100it [00:04, 20.01it/s]\n"
     ]
    },
    {
     "name": "stdout",
     "output_type": "stream",
     "text": [
      "Get top k molecules...\n",
      "% of top 500 molecules found : 56.39999999999999 %\n",
      "==================================================\n",
      "ITERATION 5\n",
      "Train set shape :  (3000, 202)\n",
      "Training the model...\n"
     ]
    },
    {
     "name": "stderr",
     "output_type": "stream",
     "text": [
      "2it [00:00, 17.55it/s]"
     ]
    },
    {
     "name": "stdout",
     "output_type": "stream",
     "text": [
      "Computing the variance...\n"
     ]
    },
    {
     "name": "stderr",
     "output_type": "stream",
     "text": [
      "100it [00:05, 19.85it/s]\n"
     ]
    },
    {
     "name": "stdout",
     "output_type": "stream",
     "text": [
      "Get top k molecules...\n",
      "% of top 500 molecules found : 58.4 %\n",
      "==================================================\n",
      "EXPERIMENT N° 2\n",
      "Initialize training set...\n",
      "% of top 500 molecules found : 0.8 %\n",
      "==================================================\n",
      "ITERATION 0\n",
      "Train set shape :  (500, 202)\n",
      "Training the model...\n"
     ]
    },
    {
     "name": "stderr",
     "output_type": "stream",
     "text": [
      "2it [00:00, 15.16it/s]"
     ]
    },
    {
     "name": "stdout",
     "output_type": "stream",
     "text": [
      "Computing the variance...\n"
     ]
    },
    {
     "name": "stderr",
     "output_type": "stream",
     "text": [
      "100it [00:05, 17.82it/s]\n"
     ]
    },
    {
     "name": "stdout",
     "output_type": "stream",
     "text": [
      "Get top k molecules...\n",
      "% of top 500 molecules found : 21.0 %\n",
      "==================================================\n",
      "ITERATION 1\n",
      "Train set shape :  (1000, 202)\n",
      "Training the model...\n"
     ]
    },
    {
     "name": "stderr",
     "output_type": "stream",
     "text": [
      "2it [00:00, 15.16it/s]"
     ]
    },
    {
     "name": "stdout",
     "output_type": "stream",
     "text": [
      "Computing the variance...\n"
     ]
    },
    {
     "name": "stderr",
     "output_type": "stream",
     "text": [
      "100it [00:05, 18.04it/s]\n"
     ]
    },
    {
     "name": "stdout",
     "output_type": "stream",
     "text": [
      "Get top k molecules...\n",
      "% of top 500 molecules found : 37.4 %\n",
      "==================================================\n",
      "ITERATION 2\n",
      "Train set shape :  (1500, 202)\n",
      "Training the model...\n"
     ]
    },
    {
     "name": "stderr",
     "output_type": "stream",
     "text": [
      "2it [00:00, 15.51it/s]"
     ]
    },
    {
     "name": "stdout",
     "output_type": "stream",
     "text": [
      "Computing the variance...\n"
     ]
    },
    {
     "name": "stderr",
     "output_type": "stream",
     "text": [
      "100it [00:05, 18.29it/s]\n"
     ]
    },
    {
     "name": "stdout",
     "output_type": "stream",
     "text": [
      "Get top k molecules...\n",
      "% of top 500 molecules found : 45.6 %\n",
      "==================================================\n",
      "ITERATION 3\n",
      "Train set shape :  (2000, 202)\n",
      "Training the model...\n"
     ]
    },
    {
     "name": "stderr",
     "output_type": "stream",
     "text": [
      "2it [00:00, 14.19it/s]"
     ]
    },
    {
     "name": "stdout",
     "output_type": "stream",
     "text": [
      "Computing the variance...\n"
     ]
    },
    {
     "name": "stderr",
     "output_type": "stream",
     "text": [
      "100it [00:05, 18.82it/s]\n"
     ]
    },
    {
     "name": "stdout",
     "output_type": "stream",
     "text": [
      "Get top k molecules...\n",
      "% of top 500 molecules found : 53.2 %\n",
      "==================================================\n",
      "ITERATION 4\n",
      "Train set shape :  (2500, 202)\n",
      "Training the model...\n"
     ]
    },
    {
     "name": "stderr",
     "output_type": "stream",
     "text": [
      "2it [00:00, 16.14it/s]"
     ]
    },
    {
     "name": "stdout",
     "output_type": "stream",
     "text": [
      "Computing the variance...\n"
     ]
    },
    {
     "name": "stderr",
     "output_type": "stream",
     "text": [
      "100it [00:05, 18.93it/s]\n"
     ]
    },
    {
     "name": "stdout",
     "output_type": "stream",
     "text": [
      "Get top k molecules...\n",
      "% of top 500 molecules found : 57.599999999999994 %\n",
      "==================================================\n",
      "ITERATION 5\n",
      "Train set shape :  (3000, 202)\n",
      "Training the model...\n"
     ]
    },
    {
     "name": "stderr",
     "output_type": "stream",
     "text": [
      "2it [00:00, 16.68it/s]"
     ]
    },
    {
     "name": "stdout",
     "output_type": "stream",
     "text": [
      "Computing the variance...\n"
     ]
    },
    {
     "name": "stderr",
     "output_type": "stream",
     "text": [
      "100it [00:05, 18.63it/s]\n"
     ]
    },
    {
     "name": "stdout",
     "output_type": "stream",
     "text": [
      "Get top k molecules...\n",
      "% of top 500 molecules found : 62.6 %\n",
      "==================================================\n",
      "EXPERIMENT N° 3\n",
      "Initialize training set...\n",
      "% of top 500 molecules found : 0.8 %\n",
      "==================================================\n",
      "ITERATION 0\n",
      "Train set shape :  (500, 202)\n",
      "Training the model...\n"
     ]
    },
    {
     "name": "stderr",
     "output_type": "stream",
     "text": [
      "2it [00:00, 15.16it/s]"
     ]
    },
    {
     "name": "stdout",
     "output_type": "stream",
     "text": [
      "Computing the variance...\n"
     ]
    },
    {
     "name": "stderr",
     "output_type": "stream",
     "text": [
      "100it [00:05, 18.04it/s]\n"
     ]
    },
    {
     "name": "stdout",
     "output_type": "stream",
     "text": [
      "Get top k molecules...\n",
      "% of top 500 molecules found : 21.4 %\n",
      "==================================================\n",
      "ITERATION 1\n",
      "Train set shape :  (1000, 202)\n",
      "Training the model...\n"
     ]
    },
    {
     "name": "stderr",
     "output_type": "stream",
     "text": [
      "2it [00:00, 14.50it/s]"
     ]
    },
    {
     "name": "stdout",
     "output_type": "stream",
     "text": [
      "Computing the variance...\n"
     ]
    },
    {
     "name": "stderr",
     "output_type": "stream",
     "text": [
      "100it [00:05, 18.09it/s]\n"
     ]
    },
    {
     "name": "stdout",
     "output_type": "stream",
     "text": [
      "Get top k molecules...\n",
      "% of top 500 molecules found : 36.8 %\n",
      "==================================================\n",
      "ITERATION 2\n",
      "Train set shape :  (1500, 202)\n",
      "Training the model...\n"
     ]
    },
    {
     "name": "stderr",
     "output_type": "stream",
     "text": [
      "2it [00:00, 15.16it/s]"
     ]
    },
    {
     "name": "stdout",
     "output_type": "stream",
     "text": [
      "Computing the variance...\n"
     ]
    },
    {
     "name": "stderr",
     "output_type": "stream",
     "text": [
      "100it [00:05, 18.00it/s]\n"
     ]
    },
    {
     "name": "stdout",
     "output_type": "stream",
     "text": [
      "Get top k molecules...\n",
      "% of top 500 molecules found : 45.6 %\n",
      "==================================================\n",
      "ITERATION 3\n",
      "Train set shape :  (2000, 202)\n",
      "Training the model...\n"
     ]
    },
    {
     "name": "stderr",
     "output_type": "stream",
     "text": [
      "2it [00:00, 15.28it/s]"
     ]
    },
    {
     "name": "stdout",
     "output_type": "stream",
     "text": [
      "Computing the variance...\n"
     ]
    },
    {
     "name": "stderr",
     "output_type": "stream",
     "text": [
      "100it [00:05, 18.52it/s]\n"
     ]
    },
    {
     "name": "stdout",
     "output_type": "stream",
     "text": [
      "Get top k molecules...\n",
      "% of top 500 molecules found : 49.4 %\n",
      "==================================================\n",
      "ITERATION 4\n",
      "Train set shape :  (2500, 202)\n",
      "Training the model...\n"
     ]
    },
    {
     "name": "stderr",
     "output_type": "stream",
     "text": [
      "2it [00:00, 16.90it/s]"
     ]
    },
    {
     "name": "stdout",
     "output_type": "stream",
     "text": [
      "Computing the variance...\n"
     ]
    },
    {
     "name": "stderr",
     "output_type": "stream",
     "text": [
      "100it [00:05, 19.33it/s]\n"
     ]
    },
    {
     "name": "stdout",
     "output_type": "stream",
     "text": [
      "Get top k molecules...\n",
      "% of top 500 molecules found : 56.39999999999999 %\n",
      "==================================================\n",
      "ITERATION 5\n",
      "Train set shape :  (3000, 202)\n",
      "Training the model...\n"
     ]
    },
    {
     "name": "stderr",
     "output_type": "stream",
     "text": [
      "2it [00:00, 16.01it/s]"
     ]
    },
    {
     "name": "stdout",
     "output_type": "stream",
     "text": [
      "Computing the variance...\n"
     ]
    },
    {
     "name": "stderr",
     "output_type": "stream",
     "text": [
      "100it [00:05, 19.17it/s]\n"
     ]
    },
    {
     "name": "stdout",
     "output_type": "stream",
     "text": [
      "Get top k molecules...\n",
      "% of top 500 molecules found : 61.8 %\n",
      "==================================================\n",
      "EXPERIMENT N° 4\n",
      "Initialize training set...\n",
      "% of top 500 molecules found : 1.6 %\n",
      "==================================================\n",
      "ITERATION 0\n",
      "Train set shape :  (500, 202)\n",
      "Training the model...\n"
     ]
    },
    {
     "name": "stderr",
     "output_type": "stream",
     "text": [
      "2it [00:00, 15.23it/s]"
     ]
    },
    {
     "name": "stdout",
     "output_type": "stream",
     "text": [
      "Computing the variance...\n"
     ]
    },
    {
     "name": "stderr",
     "output_type": "stream",
     "text": [
      "100it [00:05, 18.90it/s]\n"
     ]
    },
    {
     "name": "stdout",
     "output_type": "stream",
     "text": [
      "Get top k molecules...\n",
      "% of top 500 molecules found : 23.200000000000003 %\n",
      "==================================================\n",
      "ITERATION 1\n",
      "Train set shape :  (1000, 202)\n",
      "Training the model...\n"
     ]
    },
    {
     "name": "stderr",
     "output_type": "stream",
     "text": [
      "2it [00:00, 15.88it/s]"
     ]
    },
    {
     "name": "stdout",
     "output_type": "stream",
     "text": [
      "Computing the variance...\n"
     ]
    },
    {
     "name": "stderr",
     "output_type": "stream",
     "text": [
      "100it [00:05, 18.82it/s]\n"
     ]
    },
    {
     "name": "stdout",
     "output_type": "stream",
     "text": [
      "Get top k molecules...\n",
      "% of top 500 molecules found : 33.800000000000004 %\n",
      "==================================================\n",
      "ITERATION 2\n",
      "Train set shape :  (1500, 202)\n",
      "Training the model...\n"
     ]
    },
    {
     "name": "stderr",
     "output_type": "stream",
     "text": [
      "2it [00:00, 16.98it/s]"
     ]
    },
    {
     "name": "stdout",
     "output_type": "stream",
     "text": [
      "Computing the variance...\n"
     ]
    },
    {
     "name": "stderr",
     "output_type": "stream",
     "text": [
      "100it [00:05, 19.13it/s]\n"
     ]
    },
    {
     "name": "stdout",
     "output_type": "stream",
     "text": [
      "Get top k molecules...\n",
      "% of top 500 molecules found : 42.6 %\n",
      "==================================================\n",
      "ITERATION 3\n",
      "Train set shape :  (2000, 202)\n",
      "Training the model...\n"
     ]
    },
    {
     "name": "stderr",
     "output_type": "stream",
     "text": [
      "2it [00:00, 15.05it/s]"
     ]
    },
    {
     "name": "stdout",
     "output_type": "stream",
     "text": [
      "Computing the variance...\n"
     ]
    },
    {
     "name": "stderr",
     "output_type": "stream",
     "text": [
      "100it [00:05, 18.51it/s]\n"
     ]
    },
    {
     "name": "stdout",
     "output_type": "stream",
     "text": [
      "Get top k molecules...\n",
      "% of top 500 molecules found : 52.2 %\n",
      "==================================================\n",
      "ITERATION 4\n",
      "Train set shape :  (2500, 202)\n",
      "Training the model...\n"
     ]
    },
    {
     "name": "stderr",
     "output_type": "stream",
     "text": [
      "2it [00:00, 15.88it/s]"
     ]
    },
    {
     "name": "stdout",
     "output_type": "stream",
     "text": [
      "Computing the variance...\n"
     ]
    },
    {
     "name": "stderr",
     "output_type": "stream",
     "text": [
      "100it [00:05, 18.81it/s]\n"
     ]
    },
    {
     "name": "stdout",
     "output_type": "stream",
     "text": [
      "Get top k molecules...\n",
      "% of top 500 molecules found : 58.4 %\n",
      "==================================================\n",
      "ITERATION 5\n",
      "Train set shape :  (3000, 202)\n",
      "Training the model...\n"
     ]
    },
    {
     "name": "stderr",
     "output_type": "stream",
     "text": [
      "2it [00:00, 15.76it/s]"
     ]
    },
    {
     "name": "stdout",
     "output_type": "stream",
     "text": [
      "Computing the variance...\n"
     ]
    },
    {
     "name": "stderr",
     "output_type": "stream",
     "text": [
      "100it [00:05, 18.81it/s]\n"
     ]
    },
    {
     "name": "stdout",
     "output_type": "stream",
     "text": [
      "Get top k molecules...\n",
      "% of top 500 molecules found : 64.8 %\n",
      "==================================================\n",
      "Model used  : NN\n",
      "Acquisition function used  : RandomSearch\n",
      "Batch Size  : 500\n",
      "EXPERIMENT N° 0\n",
      "Initialize training set...\n",
      "% of top 500 molecules found : 2.0 %\n",
      "==================================================\n",
      "ITERATION 0\n",
      "Train set shape :  (500, 202)\n",
      "Training the model...\n"
     ]
    },
    {
     "name": "stderr",
     "output_type": "stream",
     "text": [
      "c:\\users\\antonin\\miniconda3\\lib\\site-packages\\torch\\autograd\\__init__.py:145: UserWarning: CUDA initialization: The NVIDIA driver on your system is too old (found version 10010). Please update your GPU driver by downloading and installing a new version from the URL: http://www.nvidia.com/Download/index.aspx Alternatively, go to: https://pytorch.org to install a PyTorch version that has been compiled with your version of the CUDA driver. (Triggered internally at  ..\\c10\\cuda\\CUDAFunctions.cpp:109.)\n",
      "  Variable._execution_engine.run_backward(\n"
     ]
    },
    {
     "name": "stdout",
     "output_type": "stream",
     "text": [
      "Get top k molecules...\n",
      "% of top 500 molecules found : 2.8000000000000003 %\n",
      "==================================================\n",
      "ITERATION 1\n",
      "Train set shape :  (1000, 202)\n",
      "Training the model...\n",
      "Get top k molecules...\n",
      "% of top 500 molecules found : 4.0 %\n",
      "==================================================\n",
      "ITERATION 2\n",
      "Train set shape :  (1500, 202)\n",
      "Training the model...\n",
      "Get top k molecules...\n",
      "% of top 500 molecules found : 4.2 %\n",
      "==================================================\n",
      "ITERATION 3\n",
      "Train set shape :  (2000, 202)\n",
      "Training the model...\n",
      "Get top k molecules...\n",
      "% of top 500 molecules found : 5.0 %\n",
      "==================================================\n",
      "ITERATION 4\n",
      "Train set shape :  (2500, 202)\n",
      "Training the model...\n",
      "Get top k molecules...\n",
      "% of top 500 molecules found : 5.2 %\n",
      "==================================================\n",
      "ITERATION 5\n",
      "Train set shape :  (3000, 202)\n",
      "Training the model...\n",
      "Get top k molecules...\n",
      "% of top 500 molecules found : 6.0 %\n",
      "==================================================\n",
      "EXPERIMENT N° 1\n",
      "Initialize training set...\n",
      "% of top 500 molecules found : 0.6 %\n",
      "==================================================\n",
      "ITERATION 0\n",
      "Train set shape :  (500, 202)\n",
      "Training the model...\n",
      "Get top k molecules...\n",
      "% of top 500 molecules found : 1.7999999999999998 %\n",
      "==================================================\n",
      "ITERATION 1\n",
      "Train set shape :  (1000, 202)\n",
      "Training the model...\n",
      "Get top k molecules...\n",
      "% of top 500 molecules found : 3.2 %\n",
      "==================================================\n",
      "ITERATION 2\n",
      "Train set shape :  (1500, 202)\n",
      "Training the model...\n",
      "Get top k molecules...\n",
      "% of top 500 molecules found : 5.2 %\n",
      "==================================================\n",
      "ITERATION 3\n",
      "Train set shape :  (2000, 202)\n",
      "Training the model...\n",
      "Get top k molecules...\n",
      "% of top 500 molecules found : 6.6000000000000005 %\n",
      "==================================================\n",
      "ITERATION 4\n",
      "Train set shape :  (2500, 202)\n",
      "Training the model...\n",
      "Get top k molecules...\n",
      "% of top 500 molecules found : 7.6 %\n",
      "==================================================\n",
      "ITERATION 5\n",
      "Train set shape :  (3000, 202)\n",
      "Training the model...\n",
      "Get top k molecules...\n",
      "% of top 500 molecules found : 8.799999999999999 %\n",
      "==================================================\n",
      "EXPERIMENT N° 2\n",
      "Initialize training set...\n",
      "% of top 500 molecules found : 1.0 %\n",
      "==================================================\n",
      "ITERATION 0\n",
      "Train set shape :  (500, 202)\n",
      "Training the model...\n",
      "Get top k molecules...\n",
      "% of top 500 molecules found : 2.1999999999999997 %\n",
      "==================================================\n",
      "ITERATION 1\n",
      "Train set shape :  (1000, 202)\n",
      "Training the model...\n",
      "Get top k molecules...\n",
      "% of top 500 molecules found : 3.2 %\n",
      "==================================================\n",
      "ITERATION 2\n",
      "Train set shape :  (1500, 202)\n",
      "Training the model...\n",
      "Get top k molecules...\n",
      "% of top 500 molecules found : 4.0 %\n",
      "==================================================\n",
      "ITERATION 3\n",
      "Train set shape :  (2000, 202)\n",
      "Training the model...\n",
      "Get top k molecules...\n",
      "% of top 500 molecules found : 4.2 %\n",
      "==================================================\n",
      "ITERATION 4\n",
      "Train set shape :  (2500, 202)\n",
      "Training the model...\n",
      "Get top k molecules...\n",
      "% of top 500 molecules found : 5.2 %\n",
      "==================================================\n",
      "ITERATION 5\n",
      "Train set shape :  (3000, 202)\n",
      "Training the model...\n",
      "Get top k molecules...\n",
      "% of top 500 molecules found : 6.0 %\n",
      "==================================================\n",
      "EXPERIMENT N° 3\n",
      "Initialize training set...\n",
      "% of top 500 molecules found : 1.6 %\n",
      "==================================================\n",
      "ITERATION 0\n",
      "Train set shape :  (500, 202)\n",
      "Training the model...\n",
      "Get top k molecules...\n",
      "% of top 500 molecules found : 2.4 %\n",
      "==================================================\n",
      "ITERATION 1\n",
      "Train set shape :  (1000, 202)\n",
      "Training the model...\n",
      "Get top k molecules...\n",
      "% of top 500 molecules found : 3.5999999999999996 %\n",
      "==================================================\n",
      "ITERATION 2\n",
      "Train set shape :  (1500, 202)\n",
      "Training the model...\n",
      "Get top k molecules...\n",
      "% of top 500 molecules found : 4.3999999999999995 %\n",
      "==================================================\n",
      "ITERATION 3\n",
      "Train set shape :  (2000, 202)\n",
      "Training the model...\n",
      "Get top k molecules...\n",
      "% of top 500 molecules found : 5.2 %\n",
      "==================================================\n",
      "ITERATION 4\n",
      "Train set shape :  (2500, 202)\n",
      "Training the model...\n",
      "Get top k molecules...\n",
      "% of top 500 molecules found : 5.800000000000001 %\n",
      "==================================================\n",
      "ITERATION 5\n",
      "Train set shape :  (3000, 202)\n",
      "Training the model...\n",
      "Get top k molecules...\n",
      "% of top 500 molecules found : 6.4 %\n",
      "==================================================\n",
      "EXPERIMENT N° 4\n",
      "Initialize training set...\n",
      "% of top 500 molecules found : 1.4000000000000001 %\n",
      "==================================================\n",
      "ITERATION 0\n",
      "Train set shape :  (500, 202)\n",
      "Training the model...\n",
      "Get top k molecules...\n",
      "% of top 500 molecules found : 2.1999999999999997 %\n",
      "==================================================\n",
      "ITERATION 1\n",
      "Train set shape :  (1000, 202)\n",
      "Training the model...\n",
      "Get top k molecules...\n",
      "% of top 500 molecules found : 3.5999999999999996 %\n",
      "==================================================\n",
      "ITERATION 2\n",
      "Train set shape :  (1500, 202)\n",
      "Training the model...\n",
      "Get top k molecules...\n",
      "% of top 500 molecules found : 4.3999999999999995 %\n",
      "==================================================\n",
      "ITERATION 3\n",
      "Train set shape :  (2000, 202)\n",
      "Training the model...\n",
      "Get top k molecules...\n",
      "% of top 500 molecules found : 5.800000000000001 %\n",
      "==================================================\n",
      "ITERATION 4\n",
      "Train set shape :  (2500, 202)\n",
      "Training the model...\n",
      "Get top k molecules...\n",
      "% of top 500 molecules found : 6.4 %\n",
      "==================================================\n",
      "ITERATION 5\n",
      "Train set shape :  (3000, 202)\n",
      "Training the model...\n",
      "Get top k molecules...\n",
      "% of top 500 molecules found : 7.3999999999999995 %\n",
      "==================================================\n",
      "Model used  : NN\n",
      "Acquisition function used  : Greedy\n",
      "Batch Size  : 500\n",
      "EXPERIMENT N° 0\n",
      "Initialize training set...\n",
      "% of top 500 molecules found : 1.2 %\n",
      "==================================================\n",
      "ITERATION 0\n",
      "Train set shape :  (500, 202)\n",
      "Training the model...\n",
      "Get top k molecules...\n",
      "% of top 500 molecules found : 31.6 %\n",
      "==================================================\n",
      "ITERATION 1\n",
      "Train set shape :  (1000, 202)\n",
      "Training the model...\n",
      "Get top k molecules...\n",
      "% of top 500 molecules found : 48.0 %\n",
      "==================================================\n",
      "ITERATION 2\n",
      "Train set shape :  (1500, 202)\n",
      "Training the model...\n",
      "Get top k molecules...\n",
      "% of top 500 molecules found : 56.8 %\n",
      "==================================================\n",
      "ITERATION 3\n",
      "Train set shape :  (2000, 202)\n",
      "Training the model...\n",
      "Get top k molecules...\n",
      "% of top 500 molecules found : 62.8 %\n",
      "==================================================\n",
      "ITERATION 4\n",
      "Train set shape :  (2500, 202)\n",
      "Training the model...\n",
      "Get top k molecules...\n",
      "% of top 500 molecules found : 69.0 %\n",
      "==================================================\n",
      "ITERATION 5\n",
      "Train set shape :  (3000, 202)\n",
      "Training the model...\n",
      "Get top k molecules...\n",
      "% of top 500 molecules found : 73.2 %\n",
      "==================================================\n",
      "EXPERIMENT N° 1\n",
      "Initialize training set...\n",
      "% of top 500 molecules found : 0.0 %\n",
      "==================================================\n",
      "ITERATION 0\n",
      "Train set shape :  (500, 202)\n",
      "Training the model...\n",
      "Get top k molecules...\n",
      "% of top 500 molecules found : 26.0 %\n",
      "==================================================\n",
      "ITERATION 1\n",
      "Train set shape :  (1000, 202)\n",
      "Training the model...\n",
      "Get top k molecules...\n",
      "% of top 500 molecules found : 47.4 %\n",
      "==================================================\n",
      "ITERATION 2\n",
      "Train set shape :  (1500, 202)\n",
      "Training the model...\n",
      "Get top k molecules...\n",
      "% of top 500 molecules found : 56.8 %\n",
      "==================================================\n",
      "ITERATION 3\n",
      "Train set shape :  (2000, 202)\n",
      "Training the model...\n",
      "Get top k molecules...\n",
      "% of top 500 molecules found : 64.8 %\n",
      "==================================================\n",
      "ITERATION 4\n",
      "Train set shape :  (2500, 202)\n",
      "Training the model...\n",
      "Get top k molecules...\n",
      "% of top 500 molecules found : 69.6 %\n",
      "==================================================\n",
      "ITERATION 5\n",
      "Train set shape :  (3000, 202)\n",
      "Training the model...\n"
     ]
    },
    {
     "name": "stdout",
     "output_type": "stream",
     "text": [
      "Get top k molecules...\n",
      "% of top 500 molecules found : 73.4 %\n",
      "==================================================\n",
      "EXPERIMENT N° 2\n",
      "Initialize training set...\n",
      "% of top 500 molecules found : 1.0 %\n",
      "==================================================\n",
      "ITERATION 0\n",
      "Train set shape :  (500, 202)\n",
      "Training the model...\n",
      "Get top k molecules...\n",
      "% of top 500 molecules found : 32.2 %\n",
      "==================================================\n",
      "ITERATION 1\n",
      "Train set shape :  (1000, 202)\n",
      "Training the model...\n",
      "Get top k molecules...\n",
      "% of top 500 molecules found : 44.4 %\n",
      "==================================================\n",
      "ITERATION 2\n",
      "Train set shape :  (1500, 202)\n",
      "Training the model...\n",
      "Get top k molecules...\n",
      "% of top 500 molecules found : 55.800000000000004 %\n",
      "==================================================\n",
      "ITERATION 3\n",
      "Train set shape :  (2000, 202)\n",
      "Training the model...\n",
      "Get top k molecules...\n",
      "% of top 500 molecules found : 64.0 %\n",
      "==================================================\n",
      "ITERATION 4\n",
      "Train set shape :  (2500, 202)\n",
      "Training the model...\n",
      "Get top k molecules...\n",
      "% of top 500 molecules found : 71.8 %\n",
      "==================================================\n",
      "ITERATION 5\n",
      "Train set shape :  (3000, 202)\n",
      "Training the model...\n",
      "Get top k molecules...\n",
      "% of top 500 molecules found : 75.4 %\n",
      "==================================================\n",
      "EXPERIMENT N° 3\n",
      "Initialize training set...\n",
      "% of top 500 molecules found : 0.6 %\n",
      "==================================================\n",
      "ITERATION 0\n",
      "Train set shape :  (500, 202)\n",
      "Training the model...\n",
      "Get top k molecules...\n",
      "% of top 500 molecules found : 32.2 %\n",
      "==================================================\n",
      "ITERATION 1\n",
      "Train set shape :  (1000, 202)\n",
      "Training the model...\n",
      "Get top k molecules...\n",
      "% of top 500 molecules found : 48.0 %\n",
      "==================================================\n",
      "ITERATION 2\n",
      "Train set shape :  (1500, 202)\n",
      "Training the model...\n",
      "Get top k molecules...\n",
      "% of top 500 molecules found : 56.99999999999999 %\n",
      "==================================================\n",
      "ITERATION 3\n",
      "Train set shape :  (2000, 202)\n",
      "Training the model...\n",
      "Get top k molecules...\n",
      "% of top 500 molecules found : 62.4 %\n",
      "==================================================\n",
      "ITERATION 4\n",
      "Train set shape :  (2500, 202)\n",
      "Training the model...\n",
      "Get top k molecules...\n",
      "% of top 500 molecules found : 68.0 %\n",
      "==================================================\n",
      "ITERATION 5\n",
      "Train set shape :  (3000, 202)\n",
      "Training the model...\n",
      "Get top k molecules...\n",
      "% of top 500 molecules found : 71.6 %\n",
      "==================================================\n",
      "EXPERIMENT N° 4\n",
      "Initialize training set...\n",
      "% of top 500 molecules found : 1.7999999999999998 %\n",
      "==================================================\n",
      "ITERATION 0\n",
      "Train set shape :  (500, 202)\n",
      "Training the model...\n",
      "Get top k molecules...\n",
      "% of top 500 molecules found : 32.0 %\n",
      "==================================================\n",
      "ITERATION 1\n",
      "Train set shape :  (1000, 202)\n",
      "Training the model...\n",
      "Get top k molecules...\n",
      "% of top 500 molecules found : 44.6 %\n",
      "==================================================\n",
      "ITERATION 2\n",
      "Train set shape :  (1500, 202)\n",
      "Training the model...\n",
      "Get top k molecules...\n",
      "% of top 500 molecules found : 52.400000000000006 %\n",
      "==================================================\n",
      "ITERATION 3\n",
      "Train set shape :  (2000, 202)\n",
      "Training the model...\n",
      "Get top k molecules...\n",
      "% of top 500 molecules found : 60.8 %\n",
      "==================================================\n",
      "ITERATION 4\n",
      "Train set shape :  (2500, 202)\n",
      "Training the model...\n",
      "Get top k molecules...\n",
      "% of top 500 molecules found : 68.0 %\n",
      "==================================================\n",
      "ITERATION 5\n",
      "Train set shape :  (3000, 202)\n",
      "Training the model...\n",
      "Get top k molecules...\n",
      "% of top 500 molecules found : 73.0 %\n",
      "==================================================\n",
      "Model used  : NN\n",
      "Acquisition function used  : UBC\n",
      "Batch Size  : 500\n",
      "EXPERIMENT N° 0\n",
      "Initialize training set...\n",
      "% of top 500 molecules found : 0.8 %\n",
      "==================================================\n",
      "Variance not yet implemented for NN\n",
      "EXPERIMENT N° 1\n",
      "Initialize training set...\n",
      "% of top 500 molecules found : 1.2 %\n",
      "==================================================\n",
      "Variance not yet implemented for NN\n",
      "EXPERIMENT N° 2\n",
      "Initialize training set...\n",
      "% of top 500 molecules found : 1.4000000000000001 %\n",
      "==================================================\n",
      "Variance not yet implemented for NN\n",
      "EXPERIMENT N° 3\n",
      "Initialize training set...\n",
      "% of top 500 molecules found : 1.2 %\n",
      "==================================================\n",
      "Variance not yet implemented for NN\n",
      "EXPERIMENT N° 4\n",
      "Initialize training set...\n",
      "% of top 500 molecules found : 1.4000000000000001 %\n",
      "==================================================\n",
      "Variance not yet implemented for NN\n"
     ]
    }
   ],
   "source": [
    "verbose = True\n",
    "\n",
    "for i, model in enumerate(models):\n",
    "    for j, acquisition_function in enumerate(acquisition_functions):\n",
    "        \n",
    "        print('Model used  :', model.name)\n",
    "        print('Acquisition function used  :', acquisition_function.name)\n",
    "        print('Batch Size  :', BATCH_SIZE)\n",
    "        \n",
    "        for experiment in range(NB_EXPERIMENTS):\n",
    "            \n",
    "            print('EXPERIMENT N°', experiment)\n",
    "            ratio_found = []\n",
    "            \n",
    "            print('Initialize training set...')\n",
    "            train_set, test_set = molecule_pool.initialize_batch(batch_size=BATCH_SIZE)\n",
    "            \n",
    "            # Get the name of top k molecule according to the docking score\n",
    "            idx_best = molecule_pool.sort_idx_by_true_score()[:k]\n",
    "            top_k_mol = set(molecule_pool.df[idx_best, 0])\n",
    "            top_k_found = train_set.get_top_k(k, top_k_mol)\n",
    "            \n",
    "            if verbose:\n",
    "                print(\"% of top {} molecules found :\".format(k), (len(top_k_found)/k)*100, '%')\n",
    "                print('='*50)\n",
    "\n",
    "            if model.name == 'NN' and acquisition_function.name == 'UBC':\n",
    "                print('Variance not yet implemented for NN')\n",
    "                continue\n",
    "\n",
    "            iteration = 0\n",
    "\n",
    "            \n",
    "            result = {'experiment':'Experiment_{}'.format(experiment),\n",
    "                     'model': model.name,\n",
    "                     'batch_size': BATCH_SIZE,\n",
    "                     'acquisition_function' : acquisition_function.name,\n",
    "                     len(train_set.df):(len(top_k_found)/k)*100}\n",
    "            \n",
    "\n",
    "            while iteration < MAX_ITERATIONS:\n",
    "                if verbose:\n",
    "                    print('ITERATION', iteration)\n",
    "                    print('Train set shape : ', train_set.data.shape)\n",
    "                    print('Training the model...')\n",
    "                    \n",
    "                model.train(train_set)\n",
    "\n",
    "                score = model.predict(test_set, acquisition_function.require_var)\n",
    "\n",
    "                most_promising_mol = acquisition_function.select_train_set(test_set)\n",
    "\n",
    "                new_train_mol = np.concatenate((train_set.df[:, 0], most_promising_mol.df[:, 0]))\n",
    "\n",
    "                train_set, test_set = molecule_pool.create_batch(new_train_mol)\n",
    "\n",
    "                iteration += 1\n",
    "\n",
    "\n",
    "                top_k_found = train_set.get_top_k(k, top_k_mol)\n",
    "\n",
    "                if verbose:\n",
    "                    print('Get top k molecules...')\n",
    "                    print(\"% of top {} molecules found :\".format(k), (len(top_k_found)/k)*100, '%')\n",
    "                    print('='*50)\n",
    "                \n",
    "                \n",
    "                result[len(train_set.df)] =  (len(top_k_found)/k)*100\n",
    "                \n",
    "            \n",
    "            # add the results of the experiment\n",
    "            df_results = df_results.append(result, ignore_index=True)\n",
    "            \n",
    "df_results.to_csv('../data/result.csv', index=False)"
   ]
  },
  {
   "cell_type": "markdown",
   "metadata": {},
   "source": [
    "## Q3b Analysis of the results on different model choices"
   ]
  },
  {
   "cell_type": "code",
   "execution_count": 4,
   "metadata": {},
   "outputs": [
    {
     "data": {
      "text/html": [
       "<div>\n",
       "<style scoped>\n",
       "    .dataframe tbody tr th:only-of-type {\n",
       "        vertical-align: middle;\n",
       "    }\n",
       "\n",
       "    .dataframe tbody tr th {\n",
       "        vertical-align: top;\n",
       "    }\n",
       "\n",
       "    .dataframe thead th {\n",
       "        text-align: right;\n",
       "    }\n",
       "</style>\n",
       "<table border=\"1\" class=\"dataframe\">\n",
       "  <thead>\n",
       "    <tr style=\"text-align: right;\">\n",
       "      <th></th>\n",
       "      <th></th>\n",
       "      <th>500</th>\n",
       "      <th>1000</th>\n",
       "      <th>1500</th>\n",
       "      <th>2000</th>\n",
       "      <th>2500</th>\n",
       "      <th>3000</th>\n",
       "      <th>3500</th>\n",
       "    </tr>\n",
       "    <tr>\n",
       "      <th>model</th>\n",
       "      <th>acquisition_function</th>\n",
       "      <th></th>\n",
       "      <th></th>\n",
       "      <th></th>\n",
       "      <th></th>\n",
       "      <th></th>\n",
       "      <th></th>\n",
       "      <th></th>\n",
       "    </tr>\n",
       "  </thead>\n",
       "  <tbody>\n",
       "    <tr>\n",
       "      <th rowspan=\"2\" valign=\"top\">NN</th>\n",
       "      <th>Greedy</th>\n",
       "      <td>0.92</td>\n",
       "      <td>30.80</td>\n",
       "      <td>46.48</td>\n",
       "      <td>55.76</td>\n",
       "      <td>62.96</td>\n",
       "      <td>69.28</td>\n",
       "      <td>73.32</td>\n",
       "    </tr>\n",
       "    <tr>\n",
       "      <th>RandomSearch</th>\n",
       "      <td>1.32</td>\n",
       "      <td>2.28</td>\n",
       "      <td>3.52</td>\n",
       "      <td>4.44</td>\n",
       "      <td>5.36</td>\n",
       "      <td>6.04</td>\n",
       "      <td>6.92</td>\n",
       "    </tr>\n",
       "    <tr>\n",
       "      <th rowspan=\"3\" valign=\"top\">RandomForestRegressor</th>\n",
       "      <th>Greedy</th>\n",
       "      <td>1.08</td>\n",
       "      <td>25.60</td>\n",
       "      <td>38.68</td>\n",
       "      <td>50.08</td>\n",
       "      <td>58.68</td>\n",
       "      <td>65.92</td>\n",
       "      <td>70.92</td>\n",
       "    </tr>\n",
       "    <tr>\n",
       "      <th>RandomSearch</th>\n",
       "      <td>0.72</td>\n",
       "      <td>1.52</td>\n",
       "      <td>2.44</td>\n",
       "      <td>3.40</td>\n",
       "      <td>4.76</td>\n",
       "      <td>5.52</td>\n",
       "      <td>6.68</td>\n",
       "    </tr>\n",
       "    <tr>\n",
       "      <th>UBC</th>\n",
       "      <td>1.00</td>\n",
       "      <td>20.04</td>\n",
       "      <td>34.28</td>\n",
       "      <td>43.96</td>\n",
       "      <td>51.32</td>\n",
       "      <td>57.20</td>\n",
       "      <td>62.20</td>\n",
       "    </tr>\n",
       "  </tbody>\n",
       "</table>\n",
       "</div>"
      ],
      "text/plain": [
       "                                            500    1000   1500   2000   2500  \\\n",
       "model                 acquisition_function                                     \n",
       "NN                    Greedy                0.92  30.80  46.48  55.76  62.96   \n",
       "                      RandomSearch          1.32   2.28   3.52   4.44   5.36   \n",
       "RandomForestRegressor Greedy                1.08  25.60  38.68  50.08  58.68   \n",
       "                      RandomSearch          0.72   1.52   2.44   3.40   4.76   \n",
       "                      UBC                   1.00  20.04  34.28  43.96  51.32   \n",
       "\n",
       "                                             3000   3500  \n",
       "model                 acquisition_function                \n",
       "NN                    Greedy                69.28  73.32  \n",
       "                      RandomSearch           6.04   6.92  \n",
       "RandomForestRegressor Greedy                65.92  70.92  \n",
       "                      RandomSearch           5.52   6.68  \n",
       "                      UBC                   57.20  62.20  "
      ]
     },
     "execution_count": 4,
     "metadata": {},
     "output_type": "execute_result"
    }
   ],
   "source": [
    "sns.set_theme()\n",
    "\n",
    "result_per_model = df_results.groupby([\"model\",\"acquisition_function\"]).mean()\n",
    "result_per_model"
   ]
  },
  {
   "cell_type": "code",
   "execution_count": 5,
   "metadata": {},
   "outputs": [],
   "source": [
    "result_nn = result_per_model.loc['NN'].reset_index().T\n",
    "result_nn.columns = result_nn.iloc[0]\n",
    "result_nn = result_nn.drop(result_nn.index[0])\n",
    "result_nn = result_nn.astype({\"Greedy\": float, \"RandomSearch\": float})\n",
    "\n",
    "result_rf = result_per_model.loc['RandomForestRegressor'].reset_index().T\n",
    "result_rf.columns = result_rf.iloc[0]\n",
    "result_rf = result_rf.drop(result_rf.index[0])\n",
    "result_rf = result_rf.astype({\"Greedy\": float, \"RandomSearch\": float, \"UBC\":float})\n",
    "\n",
    "all_result = [result_rf, result_nn]"
   ]
  },
  {
   "cell_type": "code",
   "execution_count": 6,
   "metadata": {},
   "outputs": [
    {
     "data": {
      "image/png": "[encoded data removed]",
      "text/plain": [
       "<Figure size 720x360 with 2 Axes>"
      ]
     },
     "metadata": {},
     "output_type": "display_data"
    }
   ],
   "source": [
    "fig, axs = plt.subplots(ncols=2, figsize=(10, 5))\n",
    "\n",
    "for i, ax in enumerate(axs):\n",
    "    sns.lineplot(data=all_result[i], markers=True, dashes=False, linewidth=2, ax=ax)\n",
    "    ax.set_xlabel('Nb ligands explored')\n",
    "    ax.set_ylabel('% of top-500 molecules found')\n",
    "    ax.set_title(df_results.model.unique()[i])"
   ]
  },
  {
   "cell_type": "code",
   "execution_count": 7,
   "metadata": {},
   "outputs": [
    {
     "data": {
      "image/png": "[encoded data removed]",
      "text/plain": [
       "<Figure size 360x360 with 1 Axes>"
      ]
     },
     "metadata": {},
     "output_type": "display_data"
    }
   ],
   "source": [
    "plt.figure(figsize=(5, 5))\n",
    "\n",
    "ax = sns.lineplot(data=result_per_model.T.iloc[:, result_per_model.T.columns.get_level_values(1)=='Greedy'], \n",
    "                  markers=True, \n",
    "                  dashes=False, \n",
    "                  linewidth=2)\n",
    "\n",
    "plot = ax.set_xlabel('Nb ligands explored')\n",
    "plot = ax.set_ylabel('% of top-500 molecules found')\n",
    "plot = ax.set_title('Convergence results with Greedy acquisition')"
   ]
  },
  {
   "cell_type": "code",
   "execution_count": 37,
   "metadata": {},
   "outputs": [
    {
     "name": "stdout",
     "output_type": "stream",
     "text": [
      "NN with acquisition function Greedy has an enrichment factor of 10.6\n",
      "RandomForestRegressor with acquisition function Greedy has an enrichment factor of 10.25\n",
      "RandomForestRegressor with acquisition function UBC has an enrichment factor of 8.99\n"
     ]
    }
   ],
   "source": [
    "# Save % molecule found by the RandomSearch as the baseline\n",
    "baseline = result_per_model.loc['NN','RandomSearch'].values[-1]\n",
    "\n",
    "for idx in result_per_model.index:\n",
    "    if idx[1] != 'RandomSearch':\n",
    "        ef = result_per_model.loc[idx].values[-1] / baseline\n",
    "        print(idx[0],'with acquisition function',idx[1],'has an enrichment factor of', round(ef, 2))"
   ]
  },
  {
   "cell_type": "code",
   "execution_count": 39,
   "metadata": {},
   "outputs": [
    {
     "data": {
      "text/html": [
       "<div>\n",
       "<style scoped>\n",
       "    .dataframe tbody tr th:only-of-type {\n",
       "        vertical-align: middle;\n",
       "    }\n",
       "\n",
       "    .dataframe tbody tr th {\n",
       "        vertical-align: top;\n",
       "    }\n",
       "\n",
       "    .dataframe thead th {\n",
       "        text-align: right;\n",
       "    }\n",
       "</style>\n",
       "<table border=\"1\" class=\"dataframe\">\n",
       "  <thead>\n",
       "    <tr style=\"text-align: right;\">\n",
       "      <th></th>\n",
       "      <th></th>\n",
       "      <th>500</th>\n",
       "      <th>1000</th>\n",
       "      <th>1500</th>\n",
       "      <th>2000</th>\n",
       "      <th>2500</th>\n",
       "      <th>3000</th>\n",
       "      <th>3500</th>\n",
       "    </tr>\n",
       "    <tr>\n",
       "      <th>model</th>\n",
       "      <th>acquisition_function</th>\n",
       "      <th></th>\n",
       "      <th></th>\n",
       "      <th></th>\n",
       "      <th></th>\n",
       "      <th></th>\n",
       "      <th></th>\n",
       "      <th></th>\n",
       "    </tr>\n",
       "  </thead>\n",
       "  <tbody>\n",
       "    <tr>\n",
       "      <th rowspan=\"2\" valign=\"top\">NN</th>\n",
       "      <th>Greedy</th>\n",
       "      <td>0.92</td>\n",
       "      <td>30.80</td>\n",
       "      <td>46.48</td>\n",
       "      <td>55.76</td>\n",
       "      <td>62.96</td>\n",
       "      <td>69.28</td>\n",
       "      <td>73.32</td>\n",
       "    </tr>\n",
       "    <tr>\n",
       "      <th>RandomSearch</th>\n",
       "      <td>1.32</td>\n",
       "      <td>2.28</td>\n",
       "      <td>3.52</td>\n",
       "      <td>4.44</td>\n",
       "      <td>5.36</td>\n",
       "      <td>6.04</td>\n",
       "      <td>6.92</td>\n",
       "    </tr>\n",
       "    <tr>\n",
       "      <th rowspan=\"3\" valign=\"top\">RandomForestRegressor</th>\n",
       "      <th>Greedy</th>\n",
       "      <td>1.08</td>\n",
       "      <td>25.60</td>\n",
       "      <td>38.68</td>\n",
       "      <td>50.08</td>\n",
       "      <td>58.68</td>\n",
       "      <td>65.92</td>\n",
       "      <td>70.92</td>\n",
       "    </tr>\n",
       "    <tr>\n",
       "      <th>RandomSearch</th>\n",
       "      <td>0.72</td>\n",
       "      <td>1.52</td>\n",
       "      <td>2.44</td>\n",
       "      <td>3.40</td>\n",
       "      <td>4.76</td>\n",
       "      <td>5.52</td>\n",
       "      <td>6.68</td>\n",
       "    </tr>\n",
       "    <tr>\n",
       "      <th>UBC</th>\n",
       "      <td>1.00</td>\n",
       "      <td>20.04</td>\n",
       "      <td>34.28</td>\n",
       "      <td>43.96</td>\n",
       "      <td>51.32</td>\n",
       "      <td>57.20</td>\n",
       "      <td>62.20</td>\n",
       "    </tr>\n",
       "  </tbody>\n",
       "</table>\n",
       "</div>"
      ],
      "text/plain": [
       "                                            500    1000   1500   2000   2500  \\\n",
       "model                 acquisition_function                                     \n",
       "NN                    Greedy                0.92  30.80  46.48  55.76  62.96   \n",
       "                      RandomSearch          1.32   2.28   3.52   4.44   5.36   \n",
       "RandomForestRegressor Greedy                1.08  25.60  38.68  50.08  58.68   \n",
       "                      RandomSearch          0.72   1.52   2.44   3.40   4.76   \n",
       "                      UBC                   1.00  20.04  34.28  43.96  51.32   \n",
       "\n",
       "                                             3000   3500  \n",
       "model                 acquisition_function                \n",
       "NN                    Greedy                69.28  73.32  \n",
       "                      RandomSearch           6.04   6.92  \n",
       "RandomForestRegressor Greedy                65.92  70.92  \n",
       "                      RandomSearch           5.52   6.68  \n",
       "                      UBC                   57.20  62.20  "
      ]
     },
     "execution_count": 39,
     "metadata": {},
     "output_type": "execute_result"
    }
   ],
   "source": [
    "result_per_model"
   ]
  }
 ],
 "metadata": {
  "kernelspec": {
   "display_name": "Python 3",
   "language": "python",
   "name": "python3"
  },
  "language_info": {
   "codemirror_mode": {
    "name": "ipython",
    "version": 3
   },
   "file_extension": ".py",
   "mimetype": "text/x-python",
   "name": "python",
   "nbconvert_exporter": "python",
   "pygments_lexer": "ipython3",
   "version": "3.8.3"
  }
 },
 "nbformat": 4,
 "nbformat_minor": 4
}
